{
 "cells": [
  {
   "cell_type": "markdown",
   "id": "c22c345e",
   "metadata": {
    "papermill": {
     "duration": 0.004967,
     "end_time": "2025-07-14T16:16:03.257566",
     "exception": false,
     "start_time": "2025-07-14T16:16:03.252599",
     "status": "completed"
    },
    "tags": []
   },
   "source": [
    "### Import necessary libraries"
   ]
  },
  {
   "cell_type": "code",
   "execution_count": 1,
   "id": "0a9131cc",
   "metadata": {
    "execution": {
     "iopub.execute_input": "2025-07-14T16:16:03.267055Z",
     "iopub.status.busy": "2025-07-14T16:16:03.266190Z",
     "iopub.status.idle": "2025-07-14T16:16:20.259822Z",
     "shell.execute_reply": "2025-07-14T16:16:20.258891Z"
    },
    "papermill": {
     "duration": 16.999964,
     "end_time": "2025-07-14T16:16:20.261378",
     "exception": false,
     "start_time": "2025-07-14T16:16:03.261414",
     "status": "completed"
    },
    "tags": []
   },
   "outputs": [
    {
     "name": "stderr",
     "output_type": "stream",
     "text": [
      "2025-07-14 16:16:08.347761: E external/local_xla/xla/stream_executor/cuda/cuda_fft.cc:477] Unable to register cuFFT factory: Attempting to register factory for plugin cuFFT when one has already been registered\n",
      "WARNING: All log messages before absl::InitializeLog() is called are written to STDERR\n",
      "E0000 00:00:1752509768.555454      19 cuda_dnn.cc:8310] Unable to register cuDNN factory: Attempting to register factory for plugin cuDNN when one has already been registered\n",
      "E0000 00:00:1752509768.608912      19 cuda_blas.cc:1418] Unable to register cuBLAS factory: Attempting to register factory for plugin cuBLAS when one has already been registered\n"
     ]
    }
   ],
   "source": [
    "import pandas as pd\n",
    "import geopandas as gpd\n",
    "import numpy as np\n",
    "from sklearn.model_selection import train_test_split\n",
    "from sklearn.metrics import accuracy_score\n",
    "from sklearn.preprocessing import StandardScaler\n",
    "from tensorflow.keras.callbacks import ModelCheckpoint\n",
    "from shapely.geometry import Point\n",
    "from sklearn.neighbors import KDTree\n",
    "import os\n",
    "from tensorflow.keras.models import Sequential\n",
    "from tensorflow.keras.layers import Input, Conv1D, Dense, Flatten, Dropout\n",
    "from tensorflow.keras.utils import to_categorical\n",
    "from sklearn.ensemble import RandomForestClassifier"
   ]
  },
  {
   "cell_type": "markdown",
   "id": "da00dd12",
   "metadata": {
    "papermill": {
     "duration": 0.003677,
     "end_time": "2025-07-14T16:16:20.269209",
     "exception": false,
     "start_time": "2025-07-14T16:16:20.265532",
     "status": "completed"
    },
    "tags": []
   },
   "source": [
    "### Loading Data"
   ]
  },
  {
   "cell_type": "code",
   "execution_count": 2,
   "id": "4baed438",
   "metadata": {
    "_cell_guid": "b1076dfc-b9ad-4769-8c92-a6c4dae69d19",
    "_uuid": "8f2839f25d086af736a60e9eeb907d3b93b6e0e5",
    "execution": {
     "iopub.execute_input": "2025-07-14T16:16:20.277990Z",
     "iopub.status.busy": "2025-07-14T16:16:20.277509Z",
     "iopub.status.idle": "2025-07-14T16:16:20.291411Z",
     "shell.execute_reply": "2025-07-14T16:16:20.290692Z"
    },
    "papermill": {
     "duration": 0.01922,
     "end_time": "2025-07-14T16:16:20.292422",
     "exception": false,
     "start_time": "2025-07-14T16:16:20.273202",
     "status": "completed"
    },
    "tags": []
   },
   "outputs": [
    {
     "name": "stdout",
     "output_type": "stream",
     "text": [
      "/kaggle/input/geoai-challenge-for-cropland-mapping-dry-dataset/Sentinel2.csv\n",
      "/kaggle/input/geoai-challenge-for-cropland-mapping-dry-dataset/SampleSubmission.csv\n",
      "/kaggle/input/geoai-challenge-for-cropland-mapping-dry-dataset/Sentinel1.csv\n",
      "/kaggle/input/geoai-challenge-for-cropland-mapping-dry-dataset/Test.csv\n",
      "/kaggle/input/geoai-challenge-for-cropland-mapping-dry-dataset/Train/Orenburg_training_samples.shx\n",
      "/kaggle/input/geoai-challenge-for-cropland-mapping-dry-dataset/Train/Fergana_training_samples.dbf\n",
      "/kaggle/input/geoai-challenge-for-cropland-mapping-dry-dataset/Train/Fergana_training_samples.shp\n",
      "/kaggle/input/geoai-challenge-for-cropland-mapping-dry-dataset/Train/Orenburg_training_samples.dbf\n",
      "/kaggle/input/geoai-challenge-for-cropland-mapping-dry-dataset/Train/Fergana_training_samples.shx\n",
      "/kaggle/input/geoai-challenge-for-cropland-mapping-dry-dataset/Train/Orenburg_training_samples.shp\n"
     ]
    }
   ],
   "source": [
    "for dirname, _, filenames in os.walk('/kaggle/input'):\n",
    "    for filename in filenames:\n",
    "        print(os.path.join(dirname, filename))"
   ]
  },
  {
   "cell_type": "code",
   "execution_count": 3,
   "id": "43baf8ae",
   "metadata": {
    "execution": {
     "iopub.execute_input": "2025-07-14T16:16:20.300633Z",
     "iopub.status.busy": "2025-07-14T16:16:20.300417Z",
     "iopub.status.idle": "2025-07-14T16:16:41.653973Z",
     "shell.execute_reply": "2025-07-14T16:16:41.653266Z"
    },
    "papermill": {
     "duration": 21.359442,
     "end_time": "2025-07-14T16:16:41.655714",
     "exception": false,
     "start_time": "2025-07-14T16:16:20.296272",
     "status": "completed"
    },
    "tags": []
   },
   "outputs": [],
   "source": [
    "# Load Sentinel-1 and 2\n",
    "s1 = pd.read_csv(\"/kaggle/input/geoai-challenge-for-cropland-mapping-dry-dataset/Sentinel1.csv\").drop(columns=['date'])\n",
    "s2 = pd.read_csv(\"/kaggle/input/geoai-challenge-for-cropland-mapping-dry-dataset/Sentinel2.csv\").drop(columns=['date'])"
   ]
  },
  {
   "cell_type": "code",
   "execution_count": 4,
   "id": "b82adf9d",
   "metadata": {
    "execution": {
     "iopub.execute_input": "2025-07-14T16:16:41.665588Z",
     "iopub.status.busy": "2025-07-14T16:16:41.665315Z",
     "iopub.status.idle": "2025-07-14T16:16:41.687789Z",
     "shell.execute_reply": "2025-07-14T16:16:41.687009Z"
    },
    "papermill": {
     "duration": 0.029001,
     "end_time": "2025-07-14T16:16:41.689325",
     "exception": false,
     "start_time": "2025-07-14T16:16:41.660324",
     "status": "completed"
    },
    "tags": []
   },
   "outputs": [
    {
     "data": {
      "text/html": [
       "<div>\n",
       "<style scoped>\n",
       "    .dataframe tbody tr th:only-of-type {\n",
       "        vertical-align: middle;\n",
       "    }\n",
       "\n",
       "    .dataframe tbody tr th {\n",
       "        vertical-align: top;\n",
       "    }\n",
       "\n",
       "    .dataframe thead th {\n",
       "        text-align: right;\n",
       "    }\n",
       "</style>\n",
       "<table border=\"1\" class=\"dataframe\">\n",
       "  <thead>\n",
       "    <tr style=\"text-align: right;\">\n",
       "      <th></th>\n",
       "      <th>ID</th>\n",
       "      <th>VH</th>\n",
       "      <th>VV</th>\n",
       "      <th>orbit</th>\n",
       "      <th>polarization</th>\n",
       "      <th>rel_orbit</th>\n",
       "      <th>translated_lat</th>\n",
       "      <th>translated_lon</th>\n",
       "    </tr>\n",
       "  </thead>\n",
       "  <tbody>\n",
       "    <tr>\n",
       "      <th>0</th>\n",
       "      <td>ID_AFQOFP</td>\n",
       "      <td>-21.479683</td>\n",
       "      <td>-16.633259</td>\n",
       "      <td>DESCENDING</td>\n",
       "      <td>[VV, VH]</td>\n",
       "      <td>78.0</td>\n",
       "      <td>41.652292</td>\n",
       "      <td>72.144256</td>\n",
       "    </tr>\n",
       "    <tr>\n",
       "      <th>1</th>\n",
       "      <td>ID_AFQOFP</td>\n",
       "      <td>-24.769110</td>\n",
       "      <td>-15.943674</td>\n",
       "      <td>DESCENDING</td>\n",
       "      <td>[VV, VH]</td>\n",
       "      <td>78.0</td>\n",
       "      <td>41.652289</td>\n",
       "      <td>72.144375</td>\n",
       "    </tr>\n",
       "    <tr>\n",
       "      <th>2</th>\n",
       "      <td>ID_AFQOFP</td>\n",
       "      <td>-25.370838</td>\n",
       "      <td>-15.185609</td>\n",
       "      <td>DESCENDING</td>\n",
       "      <td>[VV, VH]</td>\n",
       "      <td>78.0</td>\n",
       "      <td>41.652286</td>\n",
       "      <td>72.144495</td>\n",
       "    </tr>\n",
       "    <tr>\n",
       "      <th>3</th>\n",
       "      <td>ID_AFQOFP</td>\n",
       "      <td>-24.134005</td>\n",
       "      <td>-16.351102</td>\n",
       "      <td>DESCENDING</td>\n",
       "      <td>[VV, VH]</td>\n",
       "      <td>78.0</td>\n",
       "      <td>41.652283</td>\n",
       "      <td>72.144614</td>\n",
       "    </tr>\n",
       "    <tr>\n",
       "      <th>4</th>\n",
       "      <td>ID_AFQOFP</td>\n",
       "      <td>-20.654249</td>\n",
       "      <td>-16.792723</td>\n",
       "      <td>DESCENDING</td>\n",
       "      <td>[VV, VH]</td>\n",
       "      <td>78.0</td>\n",
       "      <td>41.652280</td>\n",
       "      <td>72.144733</td>\n",
       "    </tr>\n",
       "  </tbody>\n",
       "</table>\n",
       "</div>"
      ],
      "text/plain": [
       "          ID         VH         VV       orbit polarization  rel_orbit  \\\n",
       "0  ID_AFQOFP -21.479683 -16.633259  DESCENDING     [VV, VH]       78.0   \n",
       "1  ID_AFQOFP -24.769110 -15.943674  DESCENDING     [VV, VH]       78.0   \n",
       "2  ID_AFQOFP -25.370838 -15.185609  DESCENDING     [VV, VH]       78.0   \n",
       "3  ID_AFQOFP -24.134005 -16.351102  DESCENDING     [VV, VH]       78.0   \n",
       "4  ID_AFQOFP -20.654249 -16.792723  DESCENDING     [VV, VH]       78.0   \n",
       "\n",
       "   translated_lat  translated_lon  \n",
       "0       41.652292       72.144256  \n",
       "1       41.652289       72.144375  \n",
       "2       41.652286       72.144495  \n",
       "3       41.652283       72.144614  \n",
       "4       41.652280       72.144733  "
      ]
     },
     "execution_count": 4,
     "metadata": {},
     "output_type": "execute_result"
    }
   ],
   "source": [
    "s1.head()"
   ]
  },
  {
   "cell_type": "code",
   "execution_count": 5,
   "id": "150b7569",
   "metadata": {
    "execution": {
     "iopub.execute_input": "2025-07-14T16:16:41.701012Z",
     "iopub.status.busy": "2025-07-14T16:16:41.700703Z",
     "iopub.status.idle": "2025-07-14T16:16:41.714428Z",
     "shell.execute_reply": "2025-07-14T16:16:41.713549Z"
    },
    "papermill": {
     "duration": 0.021733,
     "end_time": "2025-07-14T16:16:41.715887",
     "exception": false,
     "start_time": "2025-07-14T16:16:41.694154",
     "status": "completed"
    },
    "tags": []
   },
   "outputs": [
    {
     "data": {
      "text/html": [
       "<div>\n",
       "<style scoped>\n",
       "    .dataframe tbody tr th:only-of-type {\n",
       "        vertical-align: middle;\n",
       "    }\n",
       "\n",
       "    .dataframe tbody tr th {\n",
       "        vertical-align: top;\n",
       "    }\n",
       "\n",
       "    .dataframe thead th {\n",
       "        text-align: right;\n",
       "    }\n",
       "</style>\n",
       "<table border=\"1\" class=\"dataframe\">\n",
       "  <thead>\n",
       "    <tr style=\"text-align: right;\">\n",
       "      <th></th>\n",
       "      <th>B11</th>\n",
       "      <th>B12</th>\n",
       "      <th>B2</th>\n",
       "      <th>B3</th>\n",
       "      <th>B4</th>\n",
       "      <th>B5</th>\n",
       "      <th>B6</th>\n",
       "      <th>B7</th>\n",
       "      <th>B8</th>\n",
       "      <th>B8A</th>\n",
       "      <th>ID</th>\n",
       "      <th>cloud_pct</th>\n",
       "      <th>solar_azimuth</th>\n",
       "      <th>solar_zenith</th>\n",
       "      <th>translated_lat</th>\n",
       "      <th>translated_lon</th>\n",
       "    </tr>\n",
       "  </thead>\n",
       "  <tbody>\n",
       "    <tr>\n",
       "      <th>0</th>\n",
       "      <td>2169</td>\n",
       "      <td>1820</td>\n",
       "      <td>1328</td>\n",
       "      <td>1610</td>\n",
       "      <td>1670</td>\n",
       "      <td>1985</td>\n",
       "      <td>2446</td>\n",
       "      <td>2628</td>\n",
       "      <td>2598</td>\n",
       "      <td>2638</td>\n",
       "      <td>ID_ZHZRHO</td>\n",
       "      <td>6.980395</td>\n",
       "      <td>139.093139</td>\n",
       "      <td>22.625533</td>\n",
       "      <td>40.935173</td>\n",
       "      <td>71.617062</td>\n",
       "    </tr>\n",
       "    <tr>\n",
       "      <th>1</th>\n",
       "      <td>2151</td>\n",
       "      <td>1770</td>\n",
       "      <td>1306</td>\n",
       "      <td>1586</td>\n",
       "      <td>1640</td>\n",
       "      <td>1961</td>\n",
       "      <td>2495</td>\n",
       "      <td>2691</td>\n",
       "      <td>2684</td>\n",
       "      <td>2732</td>\n",
       "      <td>ID_ZHZRHO</td>\n",
       "      <td>6.980395</td>\n",
       "      <td>139.093139</td>\n",
       "      <td>22.625533</td>\n",
       "      <td>40.935171</td>\n",
       "      <td>71.617180</td>\n",
       "    </tr>\n",
       "    <tr>\n",
       "      <th>2</th>\n",
       "      <td>2169</td>\n",
       "      <td>1820</td>\n",
       "      <td>1456</td>\n",
       "      <td>1674</td>\n",
       "      <td>1808</td>\n",
       "      <td>1985</td>\n",
       "      <td>2446</td>\n",
       "      <td>2628</td>\n",
       "      <td>2486</td>\n",
       "      <td>2638</td>\n",
       "      <td>ID_ZHZRHO</td>\n",
       "      <td>6.980395</td>\n",
       "      <td>139.093139</td>\n",
       "      <td>22.625533</td>\n",
       "      <td>40.935085</td>\n",
       "      <td>71.616940</td>\n",
       "    </tr>\n",
       "    <tr>\n",
       "      <th>3</th>\n",
       "      <td>2169</td>\n",
       "      <td>1820</td>\n",
       "      <td>1284</td>\n",
       "      <td>1604</td>\n",
       "      <td>1658</td>\n",
       "      <td>1985</td>\n",
       "      <td>2446</td>\n",
       "      <td>2628</td>\n",
       "      <td>2658</td>\n",
       "      <td>2638</td>\n",
       "      <td>ID_ZHZRHO</td>\n",
       "      <td>6.980395</td>\n",
       "      <td>139.093139</td>\n",
       "      <td>22.625533</td>\n",
       "      <td>40.935083</td>\n",
       "      <td>71.617059</td>\n",
       "    </tr>\n",
       "    <tr>\n",
       "      <th>4</th>\n",
       "      <td>2151</td>\n",
       "      <td>1770</td>\n",
       "      <td>1242</td>\n",
       "      <td>1522</td>\n",
       "      <td>1564</td>\n",
       "      <td>1961</td>\n",
       "      <td>2495</td>\n",
       "      <td>2691</td>\n",
       "      <td>2696</td>\n",
       "      <td>2732</td>\n",
       "      <td>ID_ZHZRHO</td>\n",
       "      <td>6.980395</td>\n",
       "      <td>139.093139</td>\n",
       "      <td>22.625533</td>\n",
       "      <td>40.935081</td>\n",
       "      <td>71.617177</td>\n",
       "    </tr>\n",
       "  </tbody>\n",
       "</table>\n",
       "</div>"
      ],
      "text/plain": [
       "    B11   B12    B2    B3    B4    B5    B6    B7    B8   B8A         ID  \\\n",
       "0  2169  1820  1328  1610  1670  1985  2446  2628  2598  2638  ID_ZHZRHO   \n",
       "1  2151  1770  1306  1586  1640  1961  2495  2691  2684  2732  ID_ZHZRHO   \n",
       "2  2169  1820  1456  1674  1808  1985  2446  2628  2486  2638  ID_ZHZRHO   \n",
       "3  2169  1820  1284  1604  1658  1985  2446  2628  2658  2638  ID_ZHZRHO   \n",
       "4  2151  1770  1242  1522  1564  1961  2495  2691  2696  2732  ID_ZHZRHO   \n",
       "\n",
       "   cloud_pct  solar_azimuth  solar_zenith  translated_lat  translated_lon  \n",
       "0   6.980395     139.093139     22.625533       40.935173       71.617062  \n",
       "1   6.980395     139.093139     22.625533       40.935171       71.617180  \n",
       "2   6.980395     139.093139     22.625533       40.935085       71.616940  \n",
       "3   6.980395     139.093139     22.625533       40.935083       71.617059  \n",
       "4   6.980395     139.093139     22.625533       40.935081       71.617177  "
      ]
     },
     "execution_count": 5,
     "metadata": {},
     "output_type": "execute_result"
    }
   ],
   "source": [
    "s2.head()"
   ]
  },
  {
   "cell_type": "markdown",
   "id": "50565c2b",
   "metadata": {
    "papermill": {
     "duration": 0.004526,
     "end_time": "2025-07-14T16:16:41.725137",
     "exception": false,
     "start_time": "2025-07-14T16:16:41.720611",
     "status": "completed"
    },
    "tags": []
   },
   "source": [
    "### Data Preparation"
   ]
  },
  {
   "cell_type": "code",
   "execution_count": 6,
   "id": "d997a173",
   "metadata": {
    "execution": {
     "iopub.execute_input": "2025-07-14T16:16:41.735154Z",
     "iopub.status.busy": "2025-07-14T16:16:41.734888Z",
     "iopub.status.idle": "2025-07-14T16:16:41.739714Z",
     "shell.execute_reply": "2025-07-14T16:16:41.738736Z"
    },
    "papermill": {
     "duration": 0.011467,
     "end_time": "2025-07-14T16:16:41.741128",
     "exception": false,
     "start_time": "2025-07-14T16:16:41.729661",
     "status": "completed"
    },
    "tags": []
   },
   "outputs": [
    {
     "name": "stdout",
     "output_type": "stream",
     "text": [
      "s1 shape: (1752570, 8)\n",
      "\n",
      "\n",
      "s2 shape: (5610393, 16)\n"
     ]
    }
   ],
   "source": [
    "# shape of sentinel 1 & 2\n",
    "print('s1 shape:', s1.shape)\n",
    "print('\\n')\n",
    "print('s2 shape:', s2.shape)"
   ]
  },
  {
   "cell_type": "code",
   "execution_count": 7,
   "id": "79b285af",
   "metadata": {
    "execution": {
     "iopub.execute_input": "2025-07-14T16:16:41.750833Z",
     "iopub.status.busy": "2025-07-14T16:16:41.750583Z",
     "iopub.status.idle": "2025-07-14T16:16:41.770306Z",
     "shell.execute_reply": "2025-07-14T16:16:41.769410Z"
    },
    "papermill": {
     "duration": 0.02582,
     "end_time": "2025-07-14T16:16:41.771416",
     "exception": false,
     "start_time": "2025-07-14T16:16:41.745596",
     "status": "completed"
    },
    "tags": []
   },
   "outputs": [
    {
     "name": "stdout",
     "output_type": "stream",
     "text": [
      "<class 'pandas.core.frame.DataFrame'>\n",
      "RangeIndex: 1752570 entries, 0 to 1752569\n",
      "Data columns (total 8 columns):\n",
      " #   Column          Dtype  \n",
      "---  ------          -----  \n",
      " 0   ID              object \n",
      " 1   VH              float64\n",
      " 2   VV              float64\n",
      " 3   orbit           object \n",
      " 4   polarization    object \n",
      " 5   rel_orbit       float64\n",
      " 6   translated_lat  float64\n",
      " 7   translated_lon  float64\n",
      "dtypes: float64(5), object(3)\n",
      "memory usage: 107.0+ MB\n",
      "--------------------------------------------------\n",
      "<class 'pandas.core.frame.DataFrame'>\n",
      "RangeIndex: 5610393 entries, 0 to 5610392\n",
      "Data columns (total 16 columns):\n",
      " #   Column          Dtype  \n",
      "---  ------          -----  \n",
      " 0   B11             int64  \n",
      " 1   B12             int64  \n",
      " 2   B2              int64  \n",
      " 3   B3              int64  \n",
      " 4   B4              int64  \n",
      " 5   B5              int64  \n",
      " 6   B6              int64  \n",
      " 7   B7              int64  \n",
      " 8   B8              int64  \n",
      " 9   B8A             int64  \n",
      " 10  ID              object \n",
      " 11  cloud_pct       float64\n",
      " 12  solar_azimuth   float64\n",
      " 13  solar_zenith    float64\n",
      " 14  translated_lat  float64\n",
      " 15  translated_lon  float64\n",
      "dtypes: float64(5), int64(10), object(1)\n",
      "memory usage: 684.9+ MB\n"
     ]
    }
   ],
   "source": [
    "# Sentinel 1 & 2 information\n",
    "s1.info()\n",
    "print('-'*50)\n",
    "s2.info()"
   ]
  },
  {
   "cell_type": "code",
   "execution_count": 8,
   "id": "cf0a3795",
   "metadata": {
    "execution": {
     "iopub.execute_input": "2025-07-14T16:16:41.780762Z",
     "iopub.status.busy": "2025-07-14T16:16:41.780517Z",
     "iopub.status.idle": "2025-07-14T16:16:42.435431Z",
     "shell.execute_reply": "2025-07-14T16:16:42.434626Z"
    },
    "papermill": {
     "duration": 0.661035,
     "end_time": "2025-07-14T16:16:42.436630",
     "exception": false,
     "start_time": "2025-07-14T16:16:41.775595",
     "status": "completed"
    },
    "tags": []
   },
   "outputs": [
    {
     "name": "stdout",
     "output_type": "stream",
     "text": [
      "s1\n",
      "ID                0\n",
      "VH                0\n",
      "VV                0\n",
      "orbit             0\n",
      "polarization      0\n",
      "rel_orbit         0\n",
      "translated_lat    0\n",
      "translated_lon    0\n",
      "dtype: int64\n",
      "--------------------------------------------------\n",
      "s2\n",
      "B11               0\n",
      "B12               0\n",
      "B2                0\n",
      "B3                0\n",
      "B4                0\n",
      "B5                0\n",
      "B6                0\n",
      "B7                0\n",
      "B8                0\n",
      "B8A               0\n",
      "ID                0\n",
      "cloud_pct         0\n",
      "solar_azimuth     0\n",
      "solar_zenith      0\n",
      "translated_lat    0\n",
      "translated_lon    0\n",
      "dtype: int64\n"
     ]
    }
   ],
   "source": [
    "# Check null values\n",
    "print('s1')\n",
    "print(s1.isna().sum())\n",
    "print('-'*50)\n",
    "print('s2')\n",
    "print(s2.isna().sum())"
   ]
  },
  {
   "cell_type": "markdown",
   "id": "d57c384d",
   "metadata": {
    "papermill": {
     "duration": 0.004424,
     "end_time": "2025-07-14T16:16:42.445543",
     "exception": false,
     "start_time": "2025-07-14T16:16:42.441119",
     "status": "completed"
    },
    "tags": []
   },
   "source": [
    "### Extract Labelled GeoData"
   ]
  },
  {
   "cell_type": "code",
   "execution_count": 9,
   "id": "969808a3",
   "metadata": {
    "execution": {
     "iopub.execute_input": "2025-07-14T16:16:42.455112Z",
     "iopub.status.busy": "2025-07-14T16:16:42.454548Z",
     "iopub.status.idle": "2025-07-14T16:16:42.873273Z",
     "shell.execute_reply": "2025-07-14T16:16:42.872626Z"
    },
    "papermill": {
     "duration": 0.425182,
     "end_time": "2025-07-14T16:16:42.874837",
     "exception": false,
     "start_time": "2025-07-14T16:16:42.449655",
     "status": "completed"
    },
    "tags": []
   },
   "outputs": [],
   "source": [
    "# Load shapefiles and extract labeled geodata\n",
    "fergana_gdf = gpd.read_file(\"/kaggle/input/geoai-challenge-for-cropland-mapping-dry-dataset/Train/Fergana_training_samples.shp\")\n",
    "orenburg_gdf = gpd.read_file(\"/kaggle/input/geoai-challenge-for-cropland-mapping-dry-dataset/Train/Orenburg_training_samples.shp\")\n",
    "train_gdf = pd.concat([fergana_gdf, orenburg_gdf])\n",
    "train_gdf = train_gdf[['Cropland', 'geometry']]\n",
    "train_gdf[\"lon\"] = train_gdf.geometry.x\n",
    "train_gdf[\"lat\"] = train_gdf.geometry.y"
   ]
  },
  {
   "cell_type": "code",
   "execution_count": 10,
   "id": "01f5175c",
   "metadata": {
    "execution": {
     "iopub.execute_input": "2025-07-14T16:16:42.886035Z",
     "iopub.status.busy": "2025-07-14T16:16:42.885495Z",
     "iopub.status.idle": "2025-07-14T16:16:43.224654Z",
     "shell.execute_reply": "2025-07-14T16:16:43.224008Z"
    },
    "papermill": {
     "duration": 0.346332,
     "end_time": "2025-07-14T16:16:43.226210",
     "exception": false,
     "start_time": "2025-07-14T16:16:42.879878",
     "status": "completed"
    },
    "tags": []
   },
   "outputs": [],
   "source": [
    "# Match Sentinel2 ID points to nearest labeled point\n",
    "tree = KDTree(train_gdf[[\"lat\", \"lon\"]].values)\n",
    "s2_points = s2.groupby(\"ID\")[[\"translated_lat\", \"translated_lon\"]].mean().reset_index()\n",
    "dist, idx = tree.query(s2_points[[\"translated_lat\", \"translated_lon\"]].values, k=1)\n",
    "s2_points[\"label\"] = train_gdf.iloc[idx.flatten()].Cropland.values\n",
    "s2_labels = s2_points[[\"ID\", \"label\"]]"
   ]
  },
  {
   "cell_type": "code",
   "execution_count": 11,
   "id": "84e06fe4",
   "metadata": {
    "execution": {
     "iopub.execute_input": "2025-07-14T16:16:43.236979Z",
     "iopub.status.busy": "2025-07-14T16:16:43.236665Z",
     "iopub.status.idle": "2025-07-14T16:16:45.894511Z",
     "shell.execute_reply": "2025-07-14T16:16:45.893888Z"
    },
    "papermill": {
     "duration": 2.664717,
     "end_time": "2025-07-14T16:16:45.895989",
     "exception": false,
     "start_time": "2025-07-14T16:16:43.231272",
     "status": "completed"
    },
    "tags": []
   },
   "outputs": [],
   "source": [
    "# Aggregate function (excluding ID)\n",
    "def aggregate_features(df, id_col=\"ID\"):\n",
    "    return df.drop(columns=[\"translated_lat\", \"translated_lon\"], errors='ignore') \\\n",
    "             .groupby(id_col).agg(['mean', 'std', 'min', 'max']).reset_index()\n",
    "\n",
    "# Aggregate train features\n",
    "s1_feats = aggregate_features(s1[[\"ID\", \"VH\", \"VV\"]])\n",
    "s2_feats = aggregate_features(s2[[\"ID\", \"B2\", \"B3\", \"B4\", \"B5\", \"B6\", \"B7\", \"B8\", \"B8A\", \"B11\", \"B12\"]])\n",
    "\n",
    "# Flatten multi-index columns\n",
    "s1_feats.columns = ['_'.join(col).strip(\"_\") for col in s1_feats.columns.values]\n",
    "s2_feats.columns = ['_'.join(col).strip(\"_\") for col in s2_feats.columns.values]"
   ]
  },
  {
   "cell_type": "markdown",
   "id": "79de16b6",
   "metadata": {
    "papermill": {
     "duration": 0.00426,
     "end_time": "2025-07-14T16:16:45.904878",
     "exception": false,
     "start_time": "2025-07-14T16:16:45.900618",
     "status": "completed"
    },
    "tags": []
   },
   "source": [
    "#### Merge training features and labels"
   ]
  },
  {
   "cell_type": "code",
   "execution_count": 12,
   "id": "6fe3841b",
   "metadata": {
    "execution": {
     "iopub.execute_input": "2025-07-14T16:16:45.914663Z",
     "iopub.status.busy": "2025-07-14T16:16:45.914408Z",
     "iopub.status.idle": "2025-07-14T16:16:45.923356Z",
     "shell.execute_reply": "2025-07-14T16:16:45.922740Z"
    },
    "papermill": {
     "duration": 0.015277,
     "end_time": "2025-07-14T16:16:45.924555",
     "exception": false,
     "start_time": "2025-07-14T16:16:45.909278",
     "status": "completed"
    },
    "tags": []
   },
   "outputs": [],
   "source": [
    "# Merge training features and labels\n",
    "train_df = s2_feats.merge(s1_feats, on=\"ID\", how=\"outer\").merge(s2_labels, on=\"ID\", how=\"inner\")\n",
    "train_df = train_df.dropna()"
   ]
  },
  {
   "cell_type": "code",
   "execution_count": 13,
   "id": "6e61f419",
   "metadata": {
    "execution": {
     "iopub.execute_input": "2025-07-14T16:16:45.935451Z",
     "iopub.status.busy": "2025-07-14T16:16:45.935049Z",
     "iopub.status.idle": "2025-07-14T16:16:45.953085Z",
     "shell.execute_reply": "2025-07-14T16:16:45.952363Z"
    },
    "papermill": {
     "duration": 0.024932,
     "end_time": "2025-07-14T16:16:45.954255",
     "exception": false,
     "start_time": "2025-07-14T16:16:45.929323",
     "status": "completed"
    },
    "tags": []
   },
   "outputs": [
    {
     "data": {
      "text/html": [
       "<div>\n",
       "<style scoped>\n",
       "    .dataframe tbody tr th:only-of-type {\n",
       "        vertical-align: middle;\n",
       "    }\n",
       "\n",
       "    .dataframe tbody tr th {\n",
       "        vertical-align: top;\n",
       "    }\n",
       "\n",
       "    .dataframe thead th {\n",
       "        text-align: right;\n",
       "    }\n",
       "</style>\n",
       "<table border=\"1\" class=\"dataframe\">\n",
       "  <thead>\n",
       "    <tr style=\"text-align: right;\">\n",
       "      <th></th>\n",
       "      <th>ID</th>\n",
       "      <th>B2_mean</th>\n",
       "      <th>B2_std</th>\n",
       "      <th>B2_min</th>\n",
       "      <th>B2_max</th>\n",
       "      <th>B3_mean</th>\n",
       "      <th>B3_std</th>\n",
       "      <th>B3_min</th>\n",
       "      <th>B3_max</th>\n",
       "      <th>B4_mean</th>\n",
       "      <th>...</th>\n",
       "      <th>B12_max</th>\n",
       "      <th>VH_mean</th>\n",
       "      <th>VH_std</th>\n",
       "      <th>VH_min</th>\n",
       "      <th>VH_max</th>\n",
       "      <th>VV_mean</th>\n",
       "      <th>VV_std</th>\n",
       "      <th>VV_min</th>\n",
       "      <th>VV_max</th>\n",
       "      <th>label</th>\n",
       "    </tr>\n",
       "  </thead>\n",
       "  <tbody>\n",
       "    <tr>\n",
       "      <th>0</th>\n",
       "      <td>ID_ABQOQT</td>\n",
       "      <td>2678.931516</td>\n",
       "      <td>2533.538818</td>\n",
       "      <td>749</td>\n",
       "      <td>16975</td>\n",
       "      <td>3087.956733</td>\n",
       "      <td>2446.428918</td>\n",
       "      <td>1015</td>\n",
       "      <td>16883</td>\n",
       "      <td>3313.985663</td>\n",
       "      <td>...</td>\n",
       "      <td>4938</td>\n",
       "      <td>-20.599840</td>\n",
       "      <td>3.788596</td>\n",
       "      <td>-48.104045</td>\n",
       "      <td>-11.837790</td>\n",
       "      <td>-10.241005</td>\n",
       "      <td>2.984731</td>\n",
       "      <td>-20.647057</td>\n",
       "      <td>-0.260766</td>\n",
       "      <td>0</td>\n",
       "    </tr>\n",
       "    <tr>\n",
       "      <th>1</th>\n",
       "      <td>ID_ADDROF</td>\n",
       "      <td>2180.467148</td>\n",
       "      <td>793.942887</td>\n",
       "      <td>314</td>\n",
       "      <td>10032</td>\n",
       "      <td>2551.151900</td>\n",
       "      <td>745.784220</td>\n",
       "      <td>684</td>\n",
       "      <td>9640</td>\n",
       "      <td>2725.154697</td>\n",
       "      <td>...</td>\n",
       "      <td>8095</td>\n",
       "      <td>-19.009345</td>\n",
       "      <td>3.215299</td>\n",
       "      <td>-37.340685</td>\n",
       "      <td>-9.947574</td>\n",
       "      <td>-9.077417</td>\n",
       "      <td>3.564367</td>\n",
       "      <td>-20.568176</td>\n",
       "      <td>6.495257</td>\n",
       "      <td>0</td>\n",
       "    </tr>\n",
       "    <tr>\n",
       "      <th>2</th>\n",
       "      <td>ID_AFIWZH</td>\n",
       "      <td>1760.097410</td>\n",
       "      <td>735.938649</td>\n",
       "      <td>76</td>\n",
       "      <td>6572</td>\n",
       "      <td>2015.750320</td>\n",
       "      <td>689.742879</td>\n",
       "      <td>342</td>\n",
       "      <td>6560</td>\n",
       "      <td>2055.006831</td>\n",
       "      <td>...</td>\n",
       "      <td>6238</td>\n",
       "      <td>-17.171517</td>\n",
       "      <td>2.445001</td>\n",
       "      <td>-33.776153</td>\n",
       "      <td>-10.090858</td>\n",
       "      <td>-7.539021</td>\n",
       "      <td>3.765559</td>\n",
       "      <td>-18.146540</td>\n",
       "      <td>4.695586</td>\n",
       "      <td>1</td>\n",
       "    </tr>\n",
       "    <tr>\n",
       "      <th>3</th>\n",
       "      <td>ID_AFQOFP</td>\n",
       "      <td>2459.410762</td>\n",
       "      <td>1700.451288</td>\n",
       "      <td>789</td>\n",
       "      <td>13704</td>\n",
       "      <td>2913.663884</td>\n",
       "      <td>1596.009589</td>\n",
       "      <td>1090</td>\n",
       "      <td>13088</td>\n",
       "      <td>3316.157296</td>\n",
       "      <td>...</td>\n",
       "      <td>7570</td>\n",
       "      <td>-24.251169</td>\n",
       "      <td>4.941170</td>\n",
       "      <td>-49.731128</td>\n",
       "      <td>-12.438228</td>\n",
       "      <td>-14.699856</td>\n",
       "      <td>3.231105</td>\n",
       "      <td>-25.396003</td>\n",
       "      <td>-2.288849</td>\n",
       "      <td>0</td>\n",
       "    </tr>\n",
       "    <tr>\n",
       "      <th>4</th>\n",
       "      <td>ID_AHRONV</td>\n",
       "      <td>2965.180911</td>\n",
       "      <td>3141.400874</td>\n",
       "      <td>439</td>\n",
       "      <td>10392</td>\n",
       "      <td>3160.444765</td>\n",
       "      <td>2983.807369</td>\n",
       "      <td>855</td>\n",
       "      <td>10456</td>\n",
       "      <td>3339.176704</td>\n",
       "      <td>...</td>\n",
       "      <td>7629</td>\n",
       "      <td>-25.955984</td>\n",
       "      <td>5.098076</td>\n",
       "      <td>-47.658529</td>\n",
       "      <td>-16.043004</td>\n",
       "      <td>-15.333656</td>\n",
       "      <td>3.817844</td>\n",
       "      <td>-26.721309</td>\n",
       "      <td>-5.322858</td>\n",
       "      <td>0</td>\n",
       "    </tr>\n",
       "  </tbody>\n",
       "</table>\n",
       "<p>5 rows × 50 columns</p>\n",
       "</div>"
      ],
      "text/plain": [
       "          ID      B2_mean       B2_std  B2_min  B2_max      B3_mean  \\\n",
       "0  ID_ABQOQT  2678.931516  2533.538818     749   16975  3087.956733   \n",
       "1  ID_ADDROF  2180.467148   793.942887     314   10032  2551.151900   \n",
       "2  ID_AFIWZH  1760.097410   735.938649      76    6572  2015.750320   \n",
       "3  ID_AFQOFP  2459.410762  1700.451288     789   13704  2913.663884   \n",
       "4  ID_AHRONV  2965.180911  3141.400874     439   10392  3160.444765   \n",
       "\n",
       "        B3_std  B3_min  B3_max      B4_mean  ...  B12_max    VH_mean  \\\n",
       "0  2446.428918    1015   16883  3313.985663  ...     4938 -20.599840   \n",
       "1   745.784220     684    9640  2725.154697  ...     8095 -19.009345   \n",
       "2   689.742879     342    6560  2055.006831  ...     6238 -17.171517   \n",
       "3  1596.009589    1090   13088  3316.157296  ...     7570 -24.251169   \n",
       "4  2983.807369     855   10456  3339.176704  ...     7629 -25.955984   \n",
       "\n",
       "     VH_std     VH_min     VH_max    VV_mean    VV_std     VV_min    VV_max  \\\n",
       "0  3.788596 -48.104045 -11.837790 -10.241005  2.984731 -20.647057 -0.260766   \n",
       "1  3.215299 -37.340685  -9.947574  -9.077417  3.564367 -20.568176  6.495257   \n",
       "2  2.445001 -33.776153 -10.090858  -7.539021  3.765559 -18.146540  4.695586   \n",
       "3  4.941170 -49.731128 -12.438228 -14.699856  3.231105 -25.396003 -2.288849   \n",
       "4  5.098076 -47.658529 -16.043004 -15.333656  3.817844 -26.721309 -5.322858   \n",
       "\n",
       "   label  \n",
       "0      0  \n",
       "1      0  \n",
       "2      1  \n",
       "3      0  \n",
       "4      0  \n",
       "\n",
       "[5 rows x 50 columns]"
      ]
     },
     "execution_count": 13,
     "metadata": {},
     "output_type": "execute_result"
    }
   ],
   "source": [
    "train_df.head()"
   ]
  },
  {
   "cell_type": "code",
   "execution_count": 14,
   "id": "ac285367",
   "metadata": {
    "execution": {
     "iopub.execute_input": "2025-07-14T16:16:45.964993Z",
     "iopub.status.busy": "2025-07-14T16:16:45.964480Z",
     "iopub.status.idle": "2025-07-14T16:16:45.971664Z",
     "shell.execute_reply": "2025-07-14T16:16:45.970889Z"
    },
    "papermill": {
     "duration": 0.013686,
     "end_time": "2025-07-14T16:16:45.972815",
     "exception": false,
     "start_time": "2025-07-14T16:16:45.959129",
     "status": "completed"
    },
    "tags": []
   },
   "outputs": [],
   "source": [
    "# Train-test split\n",
    "X = train_df.drop(columns=[\"ID\", \"label\"])\n",
    "y = train_df[\"label\"]\n",
    "X_train, X_val, y_train, y_val = train_test_split(X, y, stratify=y, test_size=0.2, random_state=42)"
   ]
  },
  {
   "cell_type": "markdown",
   "id": "bf98d0e0",
   "metadata": {
    "papermill": {
     "duration": 0.004282,
     "end_time": "2025-07-14T16:16:45.981723",
     "exception": false,
     "start_time": "2025-07-14T16:16:45.977441",
     "status": "completed"
    },
    "tags": []
   },
   "source": [
    "### CNN Model"
   ]
  },
  {
   "cell_type": "code",
   "execution_count": 15,
   "id": "870f9a7b",
   "metadata": {
    "execution": {
     "iopub.execute_input": "2025-07-14T16:16:45.992088Z",
     "iopub.status.busy": "2025-07-14T16:16:45.991367Z",
     "iopub.status.idle": "2025-07-14T16:16:48.199692Z",
     "shell.execute_reply": "2025-07-14T16:16:48.199115Z"
    },
    "papermill": {
     "duration": 2.215089,
     "end_time": "2025-07-14T16:16:48.201264",
     "exception": false,
     "start_time": "2025-07-14T16:16:45.986175",
     "status": "completed"
    },
    "tags": []
   },
   "outputs": [
    {
     "name": "stderr",
     "output_type": "stream",
     "text": [
      "I0000 00:00:1752509806.831423      19 gpu_device.cc:2022] Created device /job:localhost/replica:0/task:0/device:GPU:0 with 15513 MB memory:  -> device: 0, name: Tesla P100-PCIE-16GB, pci bus id: 0000:00:04.0, compute capability: 6.0\n"
     ]
    }
   ],
   "source": [
    "# Scale features\n",
    "scaler = StandardScaler()\n",
    "X_train_scaled = scaler.fit_transform(X_train)\n",
    "X_val_scaled = scaler.transform(X_val)\n",
    "\n",
    "# Prepare data for CNN: reshape to (samples, features, 1)\n",
    "X_train_cnn = np.expand_dims(X_train_scaled, axis=2)\n",
    "X_val_cnn = np.expand_dims(X_val_scaled, axis=2)\n",
    "\n",
    "# Encode labels if not already 0/1\n",
    "num_classes = len(np.unique(y_train))\n",
    "y_train_cnn = to_categorical(y_train, num_classes)\n",
    "y_val_cnn = to_categorical(y_val, num_classes)\n",
    "\n",
    "# Build a simple 1D CNN model with Input layer\n",
    "model = Sequential([\n",
    "    Input(shape=(X_train_cnn.shape[1], 1)),\n",
    "    Conv1D(32, kernel_size=3, activation='relu'),\n",
    "    Dropout(0.2),\n",
    "    Conv1D(64, kernel_size=3, activation='relu'),\n",
    "    Flatten(),\n",
    "    Dense(64, activation='relu'),\n",
    "    Dense(num_classes, activation='softmax')\n",
    "])\n",
    "\n",
    "model.compile(optimizer='adam', loss='categorical_crossentropy', metrics=['accuracy'])"
   ]
  },
  {
   "cell_type": "code",
   "execution_count": 16,
   "id": "704f5fb8",
   "metadata": {
    "execution": {
     "iopub.execute_input": "2025-07-14T16:16:48.212636Z",
     "iopub.status.busy": "2025-07-14T16:16:48.212210Z",
     "iopub.status.idle": "2025-07-14T16:16:56.248732Z",
     "shell.execute_reply": "2025-07-14T16:16:56.247869Z"
    },
    "papermill": {
     "duration": 8.043981,
     "end_time": "2025-07-14T16:16:56.250291",
     "exception": false,
     "start_time": "2025-07-14T16:16:48.206310",
     "status": "completed"
    },
    "tags": []
   },
   "outputs": [
    {
     "name": "stdout",
     "output_type": "stream",
     "text": [
      "Epoch 1/20\n"
     ]
    },
    {
     "name": "stderr",
     "output_type": "stream",
     "text": [
      "WARNING: All log messages before absl::InitializeLog() is called are written to STDERR\n",
      "I0000 00:00:1752509810.481024      59 service.cc:148] XLA service 0x7c305400a9c0 initialized for platform CUDA (this does not guarantee that XLA will be used). Devices:\n",
      "I0000 00:00:1752509810.481602      59 service.cc:156]   StreamExecutor device (0): Tesla P100-PCIE-16GB, Compute Capability 6.0\n",
      "I0000 00:00:1752509810.752018      59 cuda_dnn.cc:529] Loaded cuDNN version 90300\n",
      "I0000 00:00:1752509812.793049      59 device_compiler.h:188] Compiled cluster using XLA!  This line is logged at most once for the lifetime of the process.\n"
     ]
    },
    {
     "name": "stdout",
     "output_type": "stream",
     "text": [
      "\n",
      "Epoch 1: val_accuracy improved from -inf to 0.65833, saving model to best_cnn_model.h5\n",
      "15/15 - 6s - 371ms/step - accuracy: 0.6354 - loss: 0.6585 - val_accuracy: 0.6583 - val_loss: 0.5793\n",
      "Epoch 2/20\n",
      "\n",
      "Epoch 2: val_accuracy did not improve from 0.65833\n",
      "15/15 - 0s - 8ms/step - accuracy: 0.6500 - loss: 0.6149 - val_accuracy: 0.6583 - val_loss: 0.5688\n",
      "Epoch 3/20\n",
      "\n",
      "Epoch 3: val_accuracy improved from 0.65833 to 0.70000, saving model to best_cnn_model.h5\n",
      "15/15 - 0s - 10ms/step - accuracy: 0.6500 - loss: 0.5996 - val_accuracy: 0.7000 - val_loss: 0.5729\n",
      "Epoch 4/20\n",
      "\n",
      "Epoch 4: val_accuracy did not improve from 0.70000\n",
      "15/15 - 0s - 8ms/step - accuracy: 0.6146 - loss: 0.5923 - val_accuracy: 0.6750 - val_loss: 0.5720\n",
      "Epoch 5/20\n",
      "\n",
      "Epoch 5: val_accuracy did not improve from 0.70000\n",
      "15/15 - 0s - 8ms/step - accuracy: 0.6542 - loss: 0.5833 - val_accuracy: 0.6417 - val_loss: 0.5861\n",
      "Epoch 6/20\n",
      "\n",
      "Epoch 6: val_accuracy did not improve from 0.70000\n",
      "15/15 - 0s - 8ms/step - accuracy: 0.6708 - loss: 0.5759 - val_accuracy: 0.6500 - val_loss: 0.5733\n",
      "Epoch 7/20\n",
      "\n",
      "Epoch 7: val_accuracy did not improve from 0.70000\n",
      "15/15 - 0s - 9ms/step - accuracy: 0.6521 - loss: 0.5730 - val_accuracy: 0.6667 - val_loss: 0.5790\n",
      "Epoch 8/20\n",
      "\n",
      "Epoch 8: val_accuracy did not improve from 0.70000\n",
      "15/15 - 0s - 10ms/step - accuracy: 0.6542 - loss: 0.5665 - val_accuracy: 0.6250 - val_loss: 0.6038\n",
      "Epoch 9/20\n",
      "\n",
      "Epoch 9: val_accuracy did not improve from 0.70000\n",
      "15/15 - 0s - 7ms/step - accuracy: 0.6500 - loss: 0.5704 - val_accuracy: 0.6583 - val_loss: 0.5795\n",
      "Epoch 10/20\n",
      "\n",
      "Epoch 10: val_accuracy did not improve from 0.70000\n",
      "15/15 - 0s - 7ms/step - accuracy: 0.6875 - loss: 0.5478 - val_accuracy: 0.6250 - val_loss: 0.5961\n",
      "Epoch 11/20\n",
      "\n",
      "Epoch 11: val_accuracy improved from 0.70000 to 0.70833, saving model to best_cnn_model.h5\n",
      "15/15 - 0s - 9ms/step - accuracy: 0.6854 - loss: 0.5439 - val_accuracy: 0.7083 - val_loss: 0.5900\n",
      "Epoch 12/20\n",
      "\n",
      "Epoch 12: val_accuracy did not improve from 0.70833\n",
      "15/15 - 0s - 7ms/step - accuracy: 0.7000 - loss: 0.5449 - val_accuracy: 0.6250 - val_loss: 0.5964\n",
      "Epoch 13/20\n",
      "\n",
      "Epoch 13: val_accuracy did not improve from 0.70833\n",
      "15/15 - 0s - 7ms/step - accuracy: 0.7188 - loss: 0.5194 - val_accuracy: 0.6333 - val_loss: 0.5890\n",
      "Epoch 14/20\n",
      "\n",
      "Epoch 14: val_accuracy did not improve from 0.70833\n",
      "15/15 - 0s - 7ms/step - accuracy: 0.7063 - loss: 0.5127 - val_accuracy: 0.6667 - val_loss: 0.6105\n",
      "Epoch 15/20\n",
      "\n",
      "Epoch 15: val_accuracy did not improve from 0.70833\n",
      "15/15 - 0s - 7ms/step - accuracy: 0.7417 - loss: 0.4977 - val_accuracy: 0.6667 - val_loss: 0.6161\n",
      "Epoch 16/20\n",
      "\n",
      "Epoch 16: val_accuracy did not improve from 0.70833\n",
      "15/15 - 0s - 7ms/step - accuracy: 0.7312 - loss: 0.4895 - val_accuracy: 0.6417 - val_loss: 0.6096\n",
      "Epoch 17/20\n",
      "\n",
      "Epoch 17: val_accuracy did not improve from 0.70833\n",
      "15/15 - 0s - 7ms/step - accuracy: 0.7417 - loss: 0.4917 - val_accuracy: 0.5750 - val_loss: 0.6276\n",
      "Epoch 18/20\n",
      "\n",
      "Epoch 18: val_accuracy did not improve from 0.70833\n",
      "15/15 - 0s - 7ms/step - accuracy: 0.7417 - loss: 0.4899 - val_accuracy: 0.6750 - val_loss: 0.6215\n",
      "Epoch 19/20\n",
      "\n",
      "Epoch 19: val_accuracy did not improve from 0.70833\n",
      "15/15 - 0s - 7ms/step - accuracy: 0.7312 - loss: 0.4902 - val_accuracy: 0.6583 - val_loss: 0.6194\n",
      "Epoch 20/20\n",
      "\n",
      "Epoch 20: val_accuracy did not improve from 0.70833\n",
      "15/15 - 0s - 7ms/step - accuracy: 0.7646 - loss: 0.4595 - val_accuracy: 0.6667 - val_loss: 0.6401\n"
     ]
    }
   ],
   "source": [
    "# Save the best model based on validation accuracy\n",
    "checkpoint = ModelCheckpoint('best_cnn_model.h5', monitor='val_accuracy', save_best_only=True, mode='max', verbose=1)\n",
    "\n",
    "# Train the model with the callback\n",
    "model.fit(\n",
    "    X_train_cnn, y_train_cnn,\n",
    "    epochs=20,\n",
    "    batch_size=32,\n",
    "    validation_data=(X_val_cnn, y_val_cnn),\n",
    "    callbacks=[checkpoint],\n",
    "    verbose=2\n",
    ")\n",
    "\n",
    "# Load the best weights before evaluation\n",
    "model.load_weights('best_cnn_model.h5')"
   ]
  },
  {
   "cell_type": "code",
   "execution_count": 17,
   "id": "d7a1414a",
   "metadata": {
    "execution": {
     "iopub.execute_input": "2025-07-14T16:16:56.266524Z",
     "iopub.status.busy": "2025-07-14T16:16:56.265900Z",
     "iopub.status.idle": "2025-07-14T16:16:56.363449Z",
     "shell.execute_reply": "2025-07-14T16:16:56.362478Z"
    },
    "papermill": {
     "duration": 0.106752,
     "end_time": "2025-07-14T16:16:56.364827",
     "exception": false,
     "start_time": "2025-07-14T16:16:56.258075",
     "status": "completed"
    },
    "tags": []
   },
   "outputs": [
    {
     "name": "stdout",
     "output_type": "stream",
     "text": [
      "Validation Accuracy: 0.7083333134651184\n"
     ]
    }
   ],
   "source": [
    "# Evaluate on validation set\n",
    "val_loss, val_acc = model.evaluate(X_val_cnn, y_val_cnn, verbose=0)\n",
    "print(\"Validation Accuracy:\", val_acc)"
   ]
  },
  {
   "cell_type": "code",
   "execution_count": 18,
   "id": "9ca0dffe",
   "metadata": {
    "execution": {
     "iopub.execute_input": "2025-07-14T16:16:56.380598Z",
     "iopub.status.busy": "2025-07-14T16:16:56.380358Z",
     "iopub.status.idle": "2025-07-14T16:16:56.950437Z",
     "shell.execute_reply": "2025-07-14T16:16:56.949532Z"
    },
    "papermill": {
     "duration": 0.579557,
     "end_time": "2025-07-14T16:16:56.952101",
     "exception": false,
     "start_time": "2025-07-14T16:16:56.372544",
     "status": "completed"
    },
    "tags": []
   },
   "outputs": [],
   "source": [
    "# Prepare test set\n",
    "test_meta = pd.read_csv(\"/kaggle/input/geoai-challenge-for-cropland-mapping-dry-dataset/Test.csv\")\n",
    "test_ids = test_meta[\"ID\"].unique()\n",
    "s1_test = s1[s1[\"ID\"].isin(test_ids)]\n",
    "s2_test = s2[s2[\"ID\"].isin(test_ids)]"
   ]
  },
  {
   "cell_type": "code",
   "execution_count": 19,
   "id": "8cb66c05",
   "metadata": {
    "execution": {
     "iopub.execute_input": "2025-07-14T16:16:56.967718Z",
     "iopub.status.busy": "2025-07-14T16:16:56.967459Z",
     "iopub.status.idle": "2025-07-14T16:16:59.801606Z",
     "shell.execute_reply": "2025-07-14T16:16:59.801041Z"
    },
    "papermill": {
     "duration": 2.843571,
     "end_time": "2025-07-14T16:16:59.803060",
     "exception": false,
     "start_time": "2025-07-14T16:16:56.959489",
     "status": "completed"
    },
    "tags": []
   },
   "outputs": [],
   "source": [
    "# Drop date + aggregate test features\n",
    "s1_test_feats = aggregate_features(s1_test[[\"ID\", \"VH\", \"VV\"]])\n",
    "s2_test_feats = aggregate_features(s2_test[[\"ID\", \"B2\", \"B3\", \"B4\", \"B5\", \"B6\", \"B7\", \"B8\", \"B8A\", \"B11\", \"B12\"]])\n",
    "s1_test_feats.columns = ['_'.join(col).strip(\"_\") for col in s1_test_feats.columns.values]\n",
    "s2_test_feats.columns = ['_'.join(col).strip(\"_\") for col in s2_test_feats.columns.values]"
   ]
  },
  {
   "cell_type": "code",
   "execution_count": 20,
   "id": "44868b27",
   "metadata": {
    "execution": {
     "iopub.execute_input": "2025-07-14T16:16:59.818402Z",
     "iopub.status.busy": "2025-07-14T16:16:59.817763Z",
     "iopub.status.idle": "2025-07-14T16:17:00.433132Z",
     "shell.execute_reply": "2025-07-14T16:17:00.432409Z"
    },
    "papermill": {
     "duration": 0.624053,
     "end_time": "2025-07-14T16:17:00.434335",
     "exception": false,
     "start_time": "2025-07-14T16:16:59.810282",
     "status": "completed"
    },
    "tags": []
   },
   "outputs": [
    {
     "name": "stdout",
     "output_type": "stream",
     "text": [
      "\u001b[1m19/19\u001b[0m \u001b[32m━━━━━━━━━━━━━━━━━━━━\u001b[0m\u001b[37m\u001b[0m \u001b[1m1s\u001b[0m 15ms/step\n"
     ]
    }
   ],
   "source": [
    "# Merge test features\n",
    "test_df = s2_test_feats.merge(s1_test_feats, on=\"ID\", how=\"outer\").fillna(0)\n",
    "X_test = test_df.drop(columns=[\"ID\"])\n",
    "test_preds = model.predict(X_test)"
   ]
  },
  {
   "cell_type": "code",
   "execution_count": null,
   "id": "105dbd04",
   "metadata": {
    "papermill": {
     "duration": 0.007111,
     "end_time": "2025-07-14T16:17:00.448786",
     "exception": false,
     "start_time": "2025-07-14T16:17:00.441675",
     "status": "completed"
    },
    "tags": []
   },
   "outputs": [],
   "source": []
  }
 ],
 "metadata": {
  "kaggle": {
   "accelerator": "gpu",
   "dataSources": [
    {
     "datasetId": 7786036,
     "sourceId": 12350307,
     "sourceType": "datasetVersion"
    }
   ],
   "dockerImageVersionId": 31090,
   "isGpuEnabled": true,
   "isInternetEnabled": true,
   "language": "python",
   "sourceType": "notebook"
  },
  "kernelspec": {
   "display_name": "Python 3",
   "language": "python",
   "name": "python3"
  },
  "language_info": {
   "codemirror_mode": {
    "name": "ipython",
    "version": 3
   },
   "file_extension": ".py",
   "mimetype": "text/x-python",
   "name": "python",
   "nbconvert_exporter": "python",
   "pygments_lexer": "ipython3",
   "version": "3.11.13"
  },
  "papermill": {
   "default_parameters": {},
   "duration": 64.257472,
   "end_time": "2025-07-14T16:17:03.291959",
   "environment_variables": {},
   "exception": null,
   "input_path": "__notebook__.ipynb",
   "output_path": "__notebook__.ipynb",
   "parameters": {},
   "start_time": "2025-07-14T16:15:59.034487",
   "version": "2.6.0"
  }
 },
 "nbformat": 4,
 "nbformat_minor": 5
}
