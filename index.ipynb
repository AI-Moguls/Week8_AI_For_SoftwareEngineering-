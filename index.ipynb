{
 "cells": [
  {
   "cell_type": "markdown",
   "metadata": {},
   "source": [
    "### Import necessary libraries"
   ]
  },
  {
   "cell_type": "code",
   "execution_count": 2,
   "metadata": {
    "execution": {
     "iopub.execute_input": "2025-07-20T10:33:51.854678Z",
     "iopub.status.busy": "2025-07-20T10:33:51.854409Z",
     "iopub.status.idle": "2025-07-20T10:33:56.861194Z",
     "shell.execute_reply": "2025-07-20T10:33:56.860288Z",
     "shell.execute_reply.started": "2025-07-20T10:33:51.854648Z"
    },
    "trusted": true
   },
   "outputs": [
    {
     "name": "stdout",
     "output_type": "stream",
     "text": [
      "Requirement already satisfied: scikit-learn==1.6.1 in /usr/local/lib/python3.11/dist-packages (1.6.1)\n",
      "Requirement already satisfied: imbalanced-learn in /usr/local/lib/python3.11/dist-packages (0.13.0)\n",
      "Requirement already satisfied: category-encoders in /usr/local/lib/python3.11/dist-packages (2.8.1)\n",
      "Requirement already satisfied: numpy==1.26.4 in /usr/local/lib/python3.11/dist-packages (1.26.4)\n",
      "Requirement already satisfied: pandas in /usr/local/lib/python3.11/dist-packages (2.3.1)\n",
      "Requirement already satisfied: scipy in /usr/local/lib/python3.11/dist-packages (1.16.0)\n",
      "Requirement already satisfied: joblib>=1.2.0 in /usr/local/lib/python3.11/dist-packages (from scikit-learn==1.6.1) (1.5.1)\n",
      "Requirement already satisfied: threadpoolctl>=3.1.0 in /usr/local/lib/python3.11/dist-packages (from scikit-learn==1.6.1) (3.6.0)\n",
      "Requirement already satisfied: mkl_fft in /usr/local/lib/python3.11/dist-packages (from numpy==1.26.4) (1.3.8)\n",
      "Requirement already satisfied: mkl_random in /usr/local/lib/python3.11/dist-packages (from numpy==1.26.4) (1.2.4)\n",
      "Requirement already satisfied: mkl_umath in /usr/local/lib/python3.11/dist-packages (from numpy==1.26.4) (0.1.1)\n",
      "Requirement already satisfied: mkl in /usr/local/lib/python3.11/dist-packages (from numpy==1.26.4) (2025.2.0)\n",
      "Requirement already satisfied: tbb4py in /usr/local/lib/python3.11/dist-packages (from numpy==1.26.4) (2022.2.0)\n",
      "Requirement already satisfied: mkl-service in /usr/local/lib/python3.11/dist-packages (from numpy==1.26.4) (2.4.1)\n",
      "Requirement already satisfied: sklearn-compat<1,>=0.1 in /usr/local/lib/python3.11/dist-packages (from imbalanced-learn) (0.1.3)\n",
      "Requirement already satisfied: patsy>=0.5.1 in /usr/local/lib/python3.11/dist-packages (from category-encoders) (1.0.1)\n",
      "Requirement already satisfied: statsmodels>=0.9.0 in /usr/local/lib/python3.11/dist-packages (from category-encoders) (0.14.4)\n",
      "Requirement already satisfied: python-dateutil>=2.8.2 in /usr/local/lib/python3.11/dist-packages (from pandas) (2.9.0.post0)\n",
      "Requirement already satisfied: pytz>=2020.1 in /usr/local/lib/python3.11/dist-packages (from pandas) (2025.2)\n",
      "Requirement already satisfied: tzdata>=2022.7 in /usr/local/lib/python3.11/dist-packages (from pandas) (2025.2)\n",
      "Requirement already satisfied: six>=1.5 in /usr/local/lib/python3.11/dist-packages (from python-dateutil>=2.8.2->pandas) (1.17.0)\n",
      "Requirement already satisfied: packaging>=21.3 in /usr/local/lib/python3.11/dist-packages (from statsmodels>=0.9.0->category-encoders) (25.0)\n",
      "Requirement already satisfied: intel-openmp<2026,>=2024 in /usr/local/lib/python3.11/dist-packages (from mkl->numpy==1.26.4) (2024.2.0)\n",
      "Requirement already satisfied: tbb==2022.* in /usr/local/lib/python3.11/dist-packages (from mkl->numpy==1.26.4) (2022.2.0)\n",
      "Requirement already satisfied: tcmlib==1.* in /usr/local/lib/python3.11/dist-packages (from tbb==2022.*->mkl->numpy==1.26.4) (1.4.0)\n",
      "Requirement already satisfied: intel-cmplr-lib-rt in /usr/local/lib/python3.11/dist-packages (from mkl_umath->numpy==1.26.4) (2024.2.0)\n",
      "Requirement already satisfied: intel-cmplr-lib-ur==2024.2.0 in /usr/local/lib/python3.11/dist-packages (from intel-openmp<2026,>=2024->mkl->numpy==1.26.4) (2024.2.0)\n"
     ]
    }
   ],
   "source": [
    "!pip install --upgrade scikit-learn==1.6.1 imbalanced-learn category-encoders numpy==1.26.4 pandas scipy"
   ]
  },
  {
   "cell_type": "code",
   "execution_count": 3,
   "metadata": {
    "execution": {
     "iopub.execute_input": "2025-07-20T10:34:01.132991Z",
     "iopub.status.busy": "2025-07-20T10:34:01.132688Z",
     "iopub.status.idle": "2025-07-20T10:34:16.642937Z",
     "shell.execute_reply": "2025-07-20T10:34:16.642337Z",
     "shell.execute_reply.started": "2025-07-20T10:34:01.132960Z"
    },
    "trusted": true
   },
   "outputs": [
    {
     "name": "stderr",
     "output_type": "stream",
     "text": [
      "2025-07-20 10:34:03.971536: E external/local_xla/xla/stream_executor/cuda/cuda_fft.cc:477] Unable to register cuFFT factory: Attempting to register factory for plugin cuFFT when one has already been registered\n",
      "WARNING: All log messages before absl::InitializeLog() is called are written to STDERR\n",
      "E0000 00:00:1753007644.171525      36 cuda_dnn.cc:8310] Unable to register cuDNN factory: Attempting to register factory for plugin cuDNN when one has already been registered\n",
      "E0000 00:00:1753007644.226959      36 cuda_blas.cc:1418] Unable to register cuBLAS factory: Attempting to register factory for plugin cuBLAS when one has already been registered\n"
     ]
    }
   ],
   "source": [
    "import pandas as pd\n",
    "import geopandas as gpd\n",
    "import numpy as np\n",
    "from sklearn.model_selection import train_test_split\n",
    "from sklearn.preprocessing import StandardScaler\n",
    "from sklearn.metrics import accuracy_score, f1_score, confusion_matrix, ConfusionMatrixDisplay\n",
    "from tensorflow.keras.models import Sequential\n",
    "from tensorflow.keras.callbacks import EarlyStopping\n",
    "from tensorflow.keras.layers import Dense, Dropout, Conv1D, Flatten, Input\n",
    "from tensorflow.keras.callbacks import ModelCheckpoint\n",
    "from tensorflow.keras.utils import to_categorical\n",
    "from imblearn.over_sampling import SMOTE\n",
    "from sklearn.ensemble import RandomForestClassifier\n",
    "from sklearn.model_selection import GridSearchCV\n",
    "from sklearn.neighbors import KDTree\n",
    "import matplotlib.pyplot as plt\n",
    "import seaborn as sns\n",
    "import os"
   ]
  },
  {
   "cell_type": "markdown",
   "metadata": {},
   "source": [
    "### Loading Data"
   ]
  },
  {
   "cell_type": "code",
   "execution_count": 4,
   "metadata": {
    "_cell_guid": "b1076dfc-b9ad-4769-8c92-a6c4dae69d19",
    "_uuid": "8f2839f25d086af736a60e9eeb907d3b93b6e0e5",
    "execution": {
     "iopub.execute_input": "2025-07-20T10:34:23.153344Z",
     "iopub.status.busy": "2025-07-20T10:34:23.152435Z",
     "iopub.status.idle": "2025-07-20T10:34:23.182973Z",
     "shell.execute_reply": "2025-07-20T10:34:23.182252Z",
     "shell.execute_reply.started": "2025-07-20T10:34:23.153318Z"
    },
    "trusted": true
   },
   "outputs": [
    {
     "name": "stdout",
     "output_type": "stream",
     "text": [
      "/kaggle/input/geoai-challenge-for-cropland-mapping-dry-dataset/Sentinel2.csv\n",
      "/kaggle/input/geoai-challenge-for-cropland-mapping-dry-dataset/SampleSubmission.csv\n",
      "/kaggle/input/geoai-challenge-for-cropland-mapping-dry-dataset/Sentinel1.csv\n",
      "/kaggle/input/geoai-challenge-for-cropland-mapping-dry-dataset/Test.csv\n",
      "/kaggle/input/geoai-challenge-for-cropland-mapping-dry-dataset/Train/Orenburg_training_samples.shx\n",
      "/kaggle/input/geoai-challenge-for-cropland-mapping-dry-dataset/Train/Fergana_training_samples.dbf\n",
      "/kaggle/input/geoai-challenge-for-cropland-mapping-dry-dataset/Train/Fergana_training_samples.shp\n",
      "/kaggle/input/geoai-challenge-for-cropland-mapping-dry-dataset/Train/Orenburg_training_samples.dbf\n",
      "/kaggle/input/geoai-challenge-for-cropland-mapping-dry-dataset/Train/Fergana_training_samples.shx\n",
      "/kaggle/input/geoai-challenge-for-cropland-mapping-dry-dataset/Train/Orenburg_training_samples.shp\n"
     ]
    }
   ],
   "source": [
    "for dirname, _, filenames in os.walk('/kaggle/input'):\n",
    "    for filename in filenames:\n",
    "        print(os.path.join(dirname, filename))"
   ]
  },
  {
   "cell_type": "code",
   "execution_count": 5,
   "metadata": {
    "execution": {
     "iopub.execute_input": "2025-07-20T10:34:23.392473Z",
     "iopub.status.busy": "2025-07-20T10:34:23.392232Z",
     "iopub.status.idle": "2025-07-20T10:34:59.676518Z",
     "shell.execute_reply": "2025-07-20T10:34:59.675718Z",
     "shell.execute_reply.started": "2025-07-20T10:34:23.392456Z"
    },
    "trusted": true
   },
   "outputs": [],
   "source": [
    "# Load Sentinel-1 and 2\n",
    "s1 = pd.read_csv(\"/kaggle/input/geoai-challenge-for-cropland-mapping-dry-dataset/Sentinel1.csv\").drop(columns=['date'])\n",
    "s2 = pd.read_csv(\"/kaggle/input/geoai-challenge-for-cropland-mapping-dry-dataset/Sentinel2.csv\").drop(columns=['date'])"
   ]
  },
  {
   "cell_type": "code",
   "execution_count": 6,
   "metadata": {
    "execution": {
     "iopub.execute_input": "2025-07-20T10:34:59.678165Z",
     "iopub.status.busy": "2025-07-20T10:34:59.677898Z",
     "iopub.status.idle": "2025-07-20T10:34:59.691200Z",
     "shell.execute_reply": "2025-07-20T10:34:59.690642Z",
     "shell.execute_reply.started": "2025-07-20T10:34:59.678140Z"
    },
    "trusted": true
   },
   "outputs": [
    {
     "data": {
      "text/html": [
       "<div>\n",
       "<style scoped>\n",
       "    .dataframe tbody tr th:only-of-type {\n",
       "        vertical-align: middle;\n",
       "    }\n",
       "\n",
       "    .dataframe tbody tr th {\n",
       "        vertical-align: top;\n",
       "    }\n",
       "\n",
       "    .dataframe thead th {\n",
       "        text-align: right;\n",
       "    }\n",
       "</style>\n",
       "<table border=\"1\" class=\"dataframe\">\n",
       "  <thead>\n",
       "    <tr style=\"text-align: right;\">\n",
       "      <th></th>\n",
       "      <th>ID</th>\n",
       "      <th>VH</th>\n",
       "      <th>VV</th>\n",
       "      <th>orbit</th>\n",
       "      <th>polarization</th>\n",
       "      <th>rel_orbit</th>\n",
       "      <th>translated_lat</th>\n",
       "      <th>translated_lon</th>\n",
       "    </tr>\n",
       "  </thead>\n",
       "  <tbody>\n",
       "    <tr>\n",
       "      <th>0</th>\n",
       "      <td>ID_AFQOFP</td>\n",
       "      <td>-21.479683</td>\n",
       "      <td>-16.633259</td>\n",
       "      <td>DESCENDING</td>\n",
       "      <td>[VV, VH]</td>\n",
       "      <td>78.0</td>\n",
       "      <td>41.652292</td>\n",
       "      <td>72.144256</td>\n",
       "    </tr>\n",
       "    <tr>\n",
       "      <th>1</th>\n",
       "      <td>ID_AFQOFP</td>\n",
       "      <td>-24.769110</td>\n",
       "      <td>-15.943674</td>\n",
       "      <td>DESCENDING</td>\n",
       "      <td>[VV, VH]</td>\n",
       "      <td>78.0</td>\n",
       "      <td>41.652289</td>\n",
       "      <td>72.144375</td>\n",
       "    </tr>\n",
       "    <tr>\n",
       "      <th>2</th>\n",
       "      <td>ID_AFQOFP</td>\n",
       "      <td>-25.370838</td>\n",
       "      <td>-15.185609</td>\n",
       "      <td>DESCENDING</td>\n",
       "      <td>[VV, VH]</td>\n",
       "      <td>78.0</td>\n",
       "      <td>41.652286</td>\n",
       "      <td>72.144495</td>\n",
       "    </tr>\n",
       "    <tr>\n",
       "      <th>3</th>\n",
       "      <td>ID_AFQOFP</td>\n",
       "      <td>-24.134005</td>\n",
       "      <td>-16.351102</td>\n",
       "      <td>DESCENDING</td>\n",
       "      <td>[VV, VH]</td>\n",
       "      <td>78.0</td>\n",
       "      <td>41.652283</td>\n",
       "      <td>72.144614</td>\n",
       "    </tr>\n",
       "    <tr>\n",
       "      <th>4</th>\n",
       "      <td>ID_AFQOFP</td>\n",
       "      <td>-20.654249</td>\n",
       "      <td>-16.792723</td>\n",
       "      <td>DESCENDING</td>\n",
       "      <td>[VV, VH]</td>\n",
       "      <td>78.0</td>\n",
       "      <td>41.652280</td>\n",
       "      <td>72.144733</td>\n",
       "    </tr>\n",
       "  </tbody>\n",
       "</table>\n",
       "</div>"
      ],
      "text/plain": [
       "          ID         VH         VV       orbit polarization  rel_orbit  \\\n",
       "0  ID_AFQOFP -21.479683 -16.633259  DESCENDING     [VV, VH]       78.0   \n",
       "1  ID_AFQOFP -24.769110 -15.943674  DESCENDING     [VV, VH]       78.0   \n",
       "2  ID_AFQOFP -25.370838 -15.185609  DESCENDING     [VV, VH]       78.0   \n",
       "3  ID_AFQOFP -24.134005 -16.351102  DESCENDING     [VV, VH]       78.0   \n",
       "4  ID_AFQOFP -20.654249 -16.792723  DESCENDING     [VV, VH]       78.0   \n",
       "\n",
       "   translated_lat  translated_lon  \n",
       "0       41.652292       72.144256  \n",
       "1       41.652289       72.144375  \n",
       "2       41.652286       72.144495  \n",
       "3       41.652283       72.144614  \n",
       "4       41.652280       72.144733  "
      ]
     },
     "execution_count": 6,
     "metadata": {},
     "output_type": "execute_result"
    }
   ],
   "source": [
    "s1.head()"
   ]
  },
  {
   "cell_type": "code",
   "execution_count": 7,
   "metadata": {
    "execution": {
     "iopub.execute_input": "2025-07-20T10:34:59.692084Z",
     "iopub.status.busy": "2025-07-20T10:34:59.691839Z",
     "iopub.status.idle": "2025-07-20T10:34:59.706259Z",
     "shell.execute_reply": "2025-07-20T10:34:59.705679Z",
     "shell.execute_reply.started": "2025-07-20T10:34:59.692069Z"
    },
    "trusted": true
   },
   "outputs": [
    {
     "data": {
      "text/html": [
       "<div>\n",
       "<style scoped>\n",
       "    .dataframe tbody tr th:only-of-type {\n",
       "        vertical-align: middle;\n",
       "    }\n",
       "\n",
       "    .dataframe tbody tr th {\n",
       "        vertical-align: top;\n",
       "    }\n",
       "\n",
       "    .dataframe thead th {\n",
       "        text-align: right;\n",
       "    }\n",
       "</style>\n",
       "<table border=\"1\" class=\"dataframe\">\n",
       "  <thead>\n",
       "    <tr style=\"text-align: right;\">\n",
       "      <th></th>\n",
       "      <th>B11</th>\n",
       "      <th>B12</th>\n",
       "      <th>B2</th>\n",
       "      <th>B3</th>\n",
       "      <th>B4</th>\n",
       "      <th>B5</th>\n",
       "      <th>B6</th>\n",
       "      <th>B7</th>\n",
       "      <th>B8</th>\n",
       "      <th>B8A</th>\n",
       "      <th>ID</th>\n",
       "      <th>cloud_pct</th>\n",
       "      <th>solar_azimuth</th>\n",
       "      <th>solar_zenith</th>\n",
       "      <th>translated_lat</th>\n",
       "      <th>translated_lon</th>\n",
       "    </tr>\n",
       "  </thead>\n",
       "  <tbody>\n",
       "    <tr>\n",
       "      <th>0</th>\n",
       "      <td>2169</td>\n",
       "      <td>1820</td>\n",
       "      <td>1328</td>\n",
       "      <td>1610</td>\n",
       "      <td>1670</td>\n",
       "      <td>1985</td>\n",
       "      <td>2446</td>\n",
       "      <td>2628</td>\n",
       "      <td>2598</td>\n",
       "      <td>2638</td>\n",
       "      <td>ID_ZHZRHO</td>\n",
       "      <td>6.980395</td>\n",
       "      <td>139.093139</td>\n",
       "      <td>22.625533</td>\n",
       "      <td>40.935173</td>\n",
       "      <td>71.617062</td>\n",
       "    </tr>\n",
       "    <tr>\n",
       "      <th>1</th>\n",
       "      <td>2151</td>\n",
       "      <td>1770</td>\n",
       "      <td>1306</td>\n",
       "      <td>1586</td>\n",
       "      <td>1640</td>\n",
       "      <td>1961</td>\n",
       "      <td>2495</td>\n",
       "      <td>2691</td>\n",
       "      <td>2684</td>\n",
       "      <td>2732</td>\n",
       "      <td>ID_ZHZRHO</td>\n",
       "      <td>6.980395</td>\n",
       "      <td>139.093139</td>\n",
       "      <td>22.625533</td>\n",
       "      <td>40.935171</td>\n",
       "      <td>71.617180</td>\n",
       "    </tr>\n",
       "    <tr>\n",
       "      <th>2</th>\n",
       "      <td>2169</td>\n",
       "      <td>1820</td>\n",
       "      <td>1456</td>\n",
       "      <td>1674</td>\n",
       "      <td>1808</td>\n",
       "      <td>1985</td>\n",
       "      <td>2446</td>\n",
       "      <td>2628</td>\n",
       "      <td>2486</td>\n",
       "      <td>2638</td>\n",
       "      <td>ID_ZHZRHO</td>\n",
       "      <td>6.980395</td>\n",
       "      <td>139.093139</td>\n",
       "      <td>22.625533</td>\n",
       "      <td>40.935085</td>\n",
       "      <td>71.616940</td>\n",
       "    </tr>\n",
       "    <tr>\n",
       "      <th>3</th>\n",
       "      <td>2169</td>\n",
       "      <td>1820</td>\n",
       "      <td>1284</td>\n",
       "      <td>1604</td>\n",
       "      <td>1658</td>\n",
       "      <td>1985</td>\n",
       "      <td>2446</td>\n",
       "      <td>2628</td>\n",
       "      <td>2658</td>\n",
       "      <td>2638</td>\n",
       "      <td>ID_ZHZRHO</td>\n",
       "      <td>6.980395</td>\n",
       "      <td>139.093139</td>\n",
       "      <td>22.625533</td>\n",
       "      <td>40.935083</td>\n",
       "      <td>71.617059</td>\n",
       "    </tr>\n",
       "    <tr>\n",
       "      <th>4</th>\n",
       "      <td>2151</td>\n",
       "      <td>1770</td>\n",
       "      <td>1242</td>\n",
       "      <td>1522</td>\n",
       "      <td>1564</td>\n",
       "      <td>1961</td>\n",
       "      <td>2495</td>\n",
       "      <td>2691</td>\n",
       "      <td>2696</td>\n",
       "      <td>2732</td>\n",
       "      <td>ID_ZHZRHO</td>\n",
       "      <td>6.980395</td>\n",
       "      <td>139.093139</td>\n",
       "      <td>22.625533</td>\n",
       "      <td>40.935081</td>\n",
       "      <td>71.617177</td>\n",
       "    </tr>\n",
       "  </tbody>\n",
       "</table>\n",
       "</div>"
      ],
      "text/plain": [
       "    B11   B12    B2    B3    B4    B5    B6    B7    B8   B8A         ID  \\\n",
       "0  2169  1820  1328  1610  1670  1985  2446  2628  2598  2638  ID_ZHZRHO   \n",
       "1  2151  1770  1306  1586  1640  1961  2495  2691  2684  2732  ID_ZHZRHO   \n",
       "2  2169  1820  1456  1674  1808  1985  2446  2628  2486  2638  ID_ZHZRHO   \n",
       "3  2169  1820  1284  1604  1658  1985  2446  2628  2658  2638  ID_ZHZRHO   \n",
       "4  2151  1770  1242  1522  1564  1961  2495  2691  2696  2732  ID_ZHZRHO   \n",
       "\n",
       "   cloud_pct  solar_azimuth  solar_zenith  translated_lat  translated_lon  \n",
       "0   6.980395     139.093139     22.625533       40.935173       71.617062  \n",
       "1   6.980395     139.093139     22.625533       40.935171       71.617180  \n",
       "2   6.980395     139.093139     22.625533       40.935085       71.616940  \n",
       "3   6.980395     139.093139     22.625533       40.935083       71.617059  \n",
       "4   6.980395     139.093139     22.625533       40.935081       71.617177  "
      ]
     },
     "execution_count": 7,
     "metadata": {},
     "output_type": "execute_result"
    }
   ],
   "source": [
    "s2.head()"
   ]
  },
  {
   "cell_type": "markdown",
   "metadata": {},
   "source": [
    "### Data Preparation"
   ]
  },
  {
   "cell_type": "code",
   "execution_count": 8,
   "metadata": {
    "execution": {
     "iopub.execute_input": "2025-07-20T10:34:59.708113Z",
     "iopub.status.busy": "2025-07-20T10:34:59.707850Z",
     "iopub.status.idle": "2025-07-20T10:34:59.721627Z",
     "shell.execute_reply": "2025-07-20T10:34:59.720966Z",
     "shell.execute_reply.started": "2025-07-20T10:34:59.708096Z"
    },
    "trusted": true
   },
   "outputs": [
    {
     "name": "stdout",
     "output_type": "stream",
     "text": [
      "s1 shape: (1752570, 8)\n",
      "\n",
      "\n",
      "s2 shape: (5610393, 16)\n"
     ]
    }
   ],
   "source": [
    "# shape of sentinel 1 & 2\n",
    "print('s1 shape:', s1.shape)\n",
    "print('\\n')\n",
    "print('s2 shape:', s2.shape)"
   ]
  },
  {
   "cell_type": "code",
   "execution_count": 9,
   "metadata": {
    "execution": {
     "iopub.execute_input": "2025-07-20T10:34:59.722561Z",
     "iopub.status.busy": "2025-07-20T10:34:59.722335Z",
     "iopub.status.idle": "2025-07-20T10:34:59.744579Z",
     "shell.execute_reply": "2025-07-20T10:34:59.744057Z",
     "shell.execute_reply.started": "2025-07-20T10:34:59.722538Z"
    },
    "trusted": true
   },
   "outputs": [
    {
     "name": "stdout",
     "output_type": "stream",
     "text": [
      "<class 'pandas.core.frame.DataFrame'>\n",
      "RangeIndex: 1752570 entries, 0 to 1752569\n",
      "Data columns (total 8 columns):\n",
      " #   Column          Dtype  \n",
      "---  ------          -----  \n",
      " 0   ID              object \n",
      " 1   VH              float64\n",
      " 2   VV              float64\n",
      " 3   orbit           object \n",
      " 4   polarization    object \n",
      " 5   rel_orbit       float64\n",
      " 6   translated_lat  float64\n",
      " 7   translated_lon  float64\n",
      "dtypes: float64(5), object(3)\n",
      "memory usage: 107.0+ MB\n",
      "--------------------------------------------------\n",
      "<class 'pandas.core.frame.DataFrame'>\n",
      "RangeIndex: 5610393 entries, 0 to 5610392\n",
      "Data columns (total 16 columns):\n",
      " #   Column          Dtype  \n",
      "---  ------          -----  \n",
      " 0   B11             int64  \n",
      " 1   B12             int64  \n",
      " 2   B2              int64  \n",
      " 3   B3              int64  \n",
      " 4   B4              int64  \n",
      " 5   B5              int64  \n",
      " 6   B6              int64  \n",
      " 7   B7              int64  \n",
      " 8   B8              int64  \n",
      " 9   B8A             int64  \n",
      " 10  ID              object \n",
      " 11  cloud_pct       float64\n",
      " 12  solar_azimuth   float64\n",
      " 13  solar_zenith    float64\n",
      " 14  translated_lat  float64\n",
      " 15  translated_lon  float64\n",
      "dtypes: float64(5), int64(10), object(1)\n",
      "memory usage: 684.9+ MB\n"
     ]
    }
   ],
   "source": [
    "# Sentinel 1 & 2 information\n",
    "s1.info()\n",
    "print('-'*50)\n",
    "s2.info()"
   ]
  },
  {
   "cell_type": "code",
   "execution_count": 10,
   "metadata": {
    "execution": {
     "iopub.execute_input": "2025-07-20T10:34:59.745475Z",
     "iopub.status.busy": "2025-07-20T10:34:59.745249Z",
     "iopub.status.idle": "2025-07-20T10:35:00.363221Z",
     "shell.execute_reply": "2025-07-20T10:35:00.362441Z",
     "shell.execute_reply.started": "2025-07-20T10:34:59.745450Z"
    },
    "trusted": true
   },
   "outputs": [
    {
     "name": "stdout",
     "output_type": "stream",
     "text": [
      "s1\n",
      "ID                0\n",
      "VH                0\n",
      "VV                0\n",
      "orbit             0\n",
      "polarization      0\n",
      "rel_orbit         0\n",
      "translated_lat    0\n",
      "translated_lon    0\n",
      "dtype: int64\n",
      "--------------------------------------------------\n",
      "s2\n",
      "B11               0\n",
      "B12               0\n",
      "B2                0\n",
      "B3                0\n",
      "B4                0\n",
      "B5                0\n",
      "B6                0\n",
      "B7                0\n",
      "B8                0\n",
      "B8A               0\n",
      "ID                0\n",
      "cloud_pct         0\n",
      "solar_azimuth     0\n",
      "solar_zenith      0\n",
      "translated_lat    0\n",
      "translated_lon    0\n",
      "dtype: int64\n"
     ]
    }
   ],
   "source": [
    "# Check null values\n",
    "print('s1')\n",
    "print(s1.isna().sum())\n",
    "print('-'*50)\n",
    "print('s2')\n",
    "print(s2.isna().sum())"
   ]
  },
  {
   "cell_type": "markdown",
   "metadata": {},
   "source": [
    "### Extract Labelled GeoData"
   ]
  },
  {
   "cell_type": "code",
   "execution_count": 11,
   "metadata": {
    "execution": {
     "iopub.execute_input": "2025-07-20T10:35:00.364305Z",
     "iopub.status.busy": "2025-07-20T10:35:00.364042Z",
     "iopub.status.idle": "2025-07-20T10:35:00.370052Z",
     "shell.execute_reply": "2025-07-20T10:35:00.369316Z",
     "shell.execute_reply.started": "2025-07-20T10:35:00.364272Z"
    },
    "trusted": true
   },
   "outputs": [],
   "source": [
    "def load_training_data():\n",
    "    fergana = gpd.read_file(\"/kaggle/input/geoai-challenge-for-cropland-mapping-dry-dataset/Train/Fergana_training_samples.shp\")\n",
    "    orenburg = gpd.read_file(\"/kaggle/input/geoai-challenge-for-cropland-mapping-dry-dataset/Train/Orenburg_training_samples.shp\")\n",
    "\n",
    "    # Do NOT set CRS or convert CRS, just extract coordinates\n",
    "    # Only calculate centroids if geometry is not already Point\n",
    "    if not all(fergana.geometry.geom_type == \"Point\"):\n",
    "        fergana['geometry'] = fergana.geometry.centroid\n",
    "    if not all(orenburg.geometry.geom_type == \"Point\"):\n",
    "        orenburg['geometry'] = orenburg.geometry.centroid\n",
    "\n",
    "    fergana['lon'] = fergana.geometry.x\n",
    "    fergana['lat'] = fergana.geometry.y\n",
    "    orenburg['lon'] = orenburg.geometry.x\n",
    "    orenburg['lat'] = orenburg.geometry.y\n",
    "\n",
    "    gdf = pd.concat([fergana, orenburg])\n",
    "    print(gdf[['lon', 'lat']].head())\n",
    "    print(\"Train lon range:\", gdf['lon'].min(), gdf['lon'].max())\n",
    "    print(\"Train lat range:\", gdf['lat'].min(), gdf['lat'].max())\n",
    "    return gdf[['Cropland', 'lon', 'lat']]"
   ]
  },
  {
   "cell_type": "code",
   "execution_count": 12,
   "metadata": {
    "execution": {
     "iopub.execute_input": "2025-07-20T10:35:00.370965Z",
     "iopub.status.busy": "2025-07-20T10:35:00.370753Z",
     "iopub.status.idle": "2025-07-20T10:35:01.163040Z",
     "shell.execute_reply": "2025-07-20T10:35:01.162232Z",
     "shell.execute_reply.started": "2025-07-20T10:35:00.370949Z"
    },
    "trusted": true
   },
   "outputs": [
    {
     "name": "stdout",
     "output_type": "stream",
     "text": [
      "         lon        lat\n",
      "0  71.749080  41.396323\n",
      "1  72.901429  41.072193\n",
      "2  72.463988  40.619055\n",
      "3  72.197317  41.627590\n",
      "4  71.312037  41.369462\n",
      "Train lon range: 54.006673861691354 72.9859295922386\n",
      "Train lat range: 40.00926404600921 52.982225224058766\n",
      "   Cropland        lon        lat\n",
      "0         0  71.749080  41.396323\n",
      "1         0  72.901429  41.072193\n",
      "2         1  72.463988  40.619055\n",
      "3         0  72.197317  41.627590\n",
      "4         0  71.312037  41.369462\n",
      "Train lon range: 54.006673861691354 72.9859295922386\n",
      "Train lat range: 40.00926404600921 52.982225224058766\n"
     ]
    }
   ],
   "source": [
    "train_gdf = load_training_data()\n",
    "print(train_gdf.head())\n",
    "print(\"Train lon range:\", train_gdf['lon'].min(), train_gdf['lon'].max())\n",
    "print(\"Train lat range:\", train_gdf['lat'].min(), train_gdf['lat'].max())"
   ]
  },
  {
   "cell_type": "markdown",
   "metadata": {},
   "source": [
    "### Feature Engineering"
   ]
  },
  {
   "cell_type": "code",
   "execution_count": 13,
   "metadata": {
    "execution": {
     "iopub.execute_input": "2025-07-20T10:35:01.164417Z",
     "iopub.status.busy": "2025-07-20T10:35:01.163925Z",
     "iopub.status.idle": "2025-07-20T10:35:01.170305Z",
     "shell.execute_reply": "2025-07-20T10:35:01.169657Z",
     "shell.execute_reply.started": "2025-07-20T10:35:01.164397Z"
    },
    "trusted": true
   },
   "outputs": [],
   "source": [
    "# Robust feature aggregation\n",
    "def aggregate_features(df, id_col='ID'):\n",
    "    \"\"\"Aggregate time-series data using mean and std for numeric columns only\"\"\"\n",
    "    # Convert to numeric and handle errors\n",
    "    numeric_df = df.copy()\n",
    "    for col in numeric_df.columns:\n",
    "        if col != id_col:\n",
    "            numeric_df[col] = pd.to_numeric(numeric_df[col], errors='coerce')\n",
    "    \n",
    "    # Fill any remaining NaNs\n",
    "    numeric_df = numeric_df.fillna(0)\n",
    "    \n",
    "    # Select only numeric columns\n",
    "    numeric_cols = numeric_df.select_dtypes(include=[np.number]).columns.tolist()\n",
    "    if id_col not in numeric_cols:\n",
    "        numeric_cols.append(id_col)\n",
    "    \n",
    "    # Group and aggregate\n",
    "    agg_df = numeric_df[numeric_cols].groupby(id_col).agg(['mean', 'std'])\n",
    "    \n",
    "    # Flatten column names\n",
    "    agg_df.columns = [f'{col[0]}_{col[1]}' for col in agg_df.columns]\n",
    "    return agg_df.reset_index()"
   ]
  },
  {
   "cell_type": "code",
   "execution_count": 14,
   "metadata": {
    "execution": {
     "iopub.execute_input": "2025-07-20T10:35:01.173162Z",
     "iopub.status.busy": "2025-07-20T10:35:01.172983Z",
     "iopub.status.idle": "2025-07-20T10:35:01.192156Z",
     "shell.execute_reply": "2025-07-20T10:35:01.191454Z",
     "shell.execute_reply.started": "2025-07-20T10:35:01.173147Z"
    },
    "trusted": true
   },
   "outputs": [],
   "source": [
    "# Feature engineering\n",
    "def calculate_vegetation_indices(df):\n",
    "    \"\"\"Calculate vegetation indices\"\"\"\n",
    "    # Convert to numeric\n",
    "    for band in ['B2', 'B3', 'B4', 'B8', 'B11']:\n",
    "        df[band] = pd.to_numeric(df[band], errors='coerce')\n",
    "    \n",
    "    df['NDVI'] = (df['B8'] - df['B4']) / (df['B8'] + df['B4'] + 1e-8)\n",
    "    df['NDWI'] = (df['B3'] - df['B8']) / (df['B3'] + df['B8'] + 1e-8)\n",
    "    return df"
   ]
  },
  {
   "cell_type": "code",
   "execution_count": 15,
   "metadata": {
    "execution": {
     "iopub.execute_input": "2025-07-20T10:35:01.193210Z",
     "iopub.status.busy": "2025-07-20T10:35:01.192943Z",
     "iopub.status.idle": "2025-07-20T10:35:01.278314Z",
     "shell.execute_reply": "2025-07-20T10:35:01.277733Z",
     "shell.execute_reply.started": "2025-07-20T10:35:01.193191Z"
    },
    "trusted": true
   },
   "outputs": [
    {
     "name": "stdout",
     "output_type": "stream",
     "text": [
      "         lon        lat\n",
      "0  71.749080  41.396323\n",
      "1  72.901429  41.072193\n",
      "2  72.463988  40.619055\n",
      "3  72.197317  41.627590\n",
      "4  71.312037  41.369462\n",
      "Train lon range: 54.006673861691354 72.9859295922386\n",
      "Train lat range: 40.00926404600921 52.982225224058766\n",
      "Loaded 1000 training samples\n"
     ]
    }
   ],
   "source": [
    "# Load training data\n",
    "train_gdf = load_training_data()\n",
    "print(f\"Loaded {len(train_gdf)} training samples\")"
   ]
  },
  {
   "cell_type": "code",
   "execution_count": 16,
   "metadata": {
    "execution": {
     "iopub.execute_input": "2025-07-20T10:35:01.279094Z",
     "iopub.status.busy": "2025-07-20T10:35:01.278921Z",
     "iopub.status.idle": "2025-07-20T10:35:06.615560Z",
     "shell.execute_reply": "2025-07-20T10:35:06.614844Z",
     "shell.execute_reply.started": "2025-07-20T10:35:01.279080Z"
    },
    "trusted": true
   },
   "outputs": [
    {
     "name": "stdout",
     "output_type": "stream",
     "text": [
      "Sentinel-2 columns: ['B11', 'B12', 'B2', 'B3', 'B4', 'B5', 'B6', 'B7', 'B8', 'B8A', 'ID', 'cloud_pct', 'solar_azimuth', 'solar_zenith', 'translated_lat', 'translated_lon', 'NDVI', 'NDWI']\n"
     ]
    }
   ],
   "source": [
    "# Process Sentinel-2 data\n",
    "s2 = calculate_vegetation_indices(s2)\n",
    "print(\"Sentinel-2 columns:\", s2.columns.tolist())\n",
    "s2_agg = aggregate_features(s2)"
   ]
  },
  {
   "cell_type": "code",
   "execution_count": 17,
   "metadata": {
    "execution": {
     "iopub.execute_input": "2025-07-20T10:35:06.616759Z",
     "iopub.status.busy": "2025-07-20T10:35:06.616452Z",
     "iopub.status.idle": "2025-07-20T10:35:06.621101Z",
     "shell.execute_reply": "2025-07-20T10:35:06.620524Z",
     "shell.execute_reply.started": "2025-07-20T10:35:06.616734Z"
    },
    "trusted": true
   },
   "outputs": [
    {
     "name": "stdout",
     "output_type": "stream",
     "text": [
      "\n",
      "Sentinel-1 columns: ['ID', 'VH', 'VV', 'orbit', 'polarization', 'rel_orbit', 'translated_lat', 'translated_lon']\n"
     ]
    }
   ],
   "source": [
    "# Process Sentinel-1 data\n",
    "print(\"\\nSentinel-1 columns:\", s1.columns.tolist())"
   ]
  },
  {
   "cell_type": "code",
   "execution_count": 18,
   "metadata": {
    "execution": {
     "iopub.execute_input": "2025-07-20T10:35:06.621953Z",
     "iopub.status.busy": "2025-07-20T10:35:06.621704Z",
     "iopub.status.idle": "2025-07-20T10:35:06.968693Z",
     "shell.execute_reply": "2025-07-20T10:35:06.967850Z",
     "shell.execute_reply.started": "2025-07-20T10:35:06.621932Z"
    },
    "trusted": true
   },
   "outputs": [],
   "source": [
    "# Convert Sentinel-1 to numeric\n",
    "for col in ['VV', 'VH']:\n",
    "    s1[col] = pd.to_numeric(s1[col], errors='coerce')\n",
    "s1 = s1.fillna(0)"
   ]
  },
  {
   "cell_type": "code",
   "execution_count": 19,
   "metadata": {
    "execution": {
     "iopub.execute_input": "2025-07-20T10:35:06.969897Z",
     "iopub.status.busy": "2025-07-20T10:35:06.969598Z",
     "iopub.status.idle": "2025-07-20T10:35:09.850727Z",
     "shell.execute_reply": "2025-07-20T10:35:09.850060Z",
     "shell.execute_reply.started": "2025-07-20T10:35:06.969851Z"
    },
    "trusted": true
   },
   "outputs": [
    {
     "name": "stdout",
     "output_type": "stream",
     "text": [
      "\n",
      "Sentinel-1 aggregated columns: ['ID', 'VH_mean', 'VH_std', 'VV_mean', 'VV_std', 'orbit_mean', 'orbit_std', 'polarization_mean', 'polarization_std', 'rel_orbit_mean', 'rel_orbit_std', 'translated_lat_mean', 'translated_lat_std', 'translated_lon_mean', 'translated_lon_std']\n"
     ]
    }
   ],
   "source": [
    "s1_agg = aggregate_features(s1)\n",
    "print(\"\\nSentinel-1 aggregated columns:\", s1_agg.columns.tolist())"
   ]
  },
  {
   "cell_type": "markdown",
   "metadata": {},
   "source": [
    "#### Merge satellite data"
   ]
  },
  {
   "cell_type": "code",
   "execution_count": 20,
   "metadata": {
    "execution": {
     "iopub.execute_input": "2025-07-20T10:35:09.852089Z",
     "iopub.status.busy": "2025-07-20T10:35:09.851549Z",
     "iopub.status.idle": "2025-07-20T10:35:09.859550Z",
     "shell.execute_reply": "2025-07-20T10:35:09.858628Z",
     "shell.execute_reply.started": "2025-07-20T10:35:09.852061Z"
    },
    "trusted": true
   },
   "outputs": [
    {
     "name": "stdout",
     "output_type": "stream",
     "text": [
      "\n",
      "Merged satellite data shape: (600, 49)\n"
     ]
    }
   ],
   "source": [
    "# Merge satellite data\n",
    "satellite_data = pd.merge(s2_agg, s1_agg, on='ID', how='inner')\n",
    "print(f\"\\nMerged satellite data shape: {satellite_data.shape}\")"
   ]
  },
  {
   "cell_type": "code",
   "execution_count": 21,
   "metadata": {
    "execution": {
     "iopub.execute_input": "2025-07-20T10:35:09.861431Z",
     "iopub.status.busy": "2025-07-20T10:35:09.860784Z",
     "iopub.status.idle": "2025-07-20T10:35:10.288205Z",
     "shell.execute_reply": "2025-07-20T10:35:10.287413Z",
     "shell.execute_reply.started": "2025-07-20T10:35:09.861408Z"
    },
    "trusted": true
   },
   "outputs": [],
   "source": [
    "# Get mean coordinates\n",
    "coords = s2.groupby('ID')[['translated_lon', 'translated_lat']].mean().reset_index()"
   ]
  },
  {
   "cell_type": "code",
   "execution_count": 22,
   "metadata": {
    "execution": {
     "iopub.execute_input": "2025-07-20T10:35:10.289624Z",
     "iopub.status.busy": "2025-07-20T10:35:10.289307Z",
     "iopub.status.idle": "2025-07-20T10:35:10.295537Z",
     "shell.execute_reply": "2025-07-20T10:35:10.294924Z",
     "shell.execute_reply.started": "2025-07-20T10:35:10.289598Z"
    },
    "trusted": true
   },
   "outputs": [],
   "source": [
    "# Check if satellite coordinates are in UTM range (large numbers)\n",
    "if coords['translated_lon'].max() > 180 or coords['translated_lat'].max() > 90:\n",
    "    print(\"Converting satellite coordinates to WGS84...\")\n",
    "    \n",
    "    # Create UTM geometry (assuming zone 40 for Fergana, 41 for Orenburg)\n",
    "    from pyproj import Transformer\n",
    "    \n",
    "    # Transform UTM to WGS84\n",
    "    transformer = Transformer.from_crs(\"EPSG:32640\", \"EPSG:4326\", always_xy=True)  # Orenburg\n",
    "    # For Fergana use EPSG:32642\n",
    "    \n",
    "    # Apply transformation\n",
    "    wgs84_coords = []\n",
    "    for _, row in coords.iterrows():\n",
    "        # Check which zone it belongs to based on position\n",
    "        if row['translated_lon'] > 500000:  # UTM Easting\n",
    "            # Orenburg zone (EPSG:32640)\n",
    "            lon, lat = transformer.transform(row['translated_lon'], row['translated_lat'])\n",
    "        else:\n",
    "            # Fergana zone (EPSG:32642)\n",
    "            lon, lat = transformer.transform(row['translated_lon'], row['translated_lat'])\n",
    "        wgs84_coords.append([lon, lat])\n",
    "    \n",
    "    coords[['lon_wgs84', 'lat_wgs84']] = np.array(wgs84_coords)\n",
    "    # Use converted coordinates for matching\n",
    "    coords['translated_lon'] = coords['lon_wgs84']\n",
    "    coords['translated_lat'] = coords['lat_wgs84']"
   ]
  },
  {
   "cell_type": "code",
   "execution_count": 24,
   "metadata": {
    "execution": {
     "iopub.execute_input": "2025-07-20T10:35:10.316425Z",
     "iopub.status.busy": "2025-07-20T10:35:10.316145Z",
     "iopub.status.idle": "2025-07-20T10:35:10.334985Z",
     "shell.execute_reply": "2025-07-20T10:35:10.334410Z",
     "shell.execute_reply.started": "2025-07-20T10:35:10.316401Z"
    },
    "trusted": true
   },
   "outputs": [
    {
     "name": "stdout",
     "output_type": "stream",
     "text": [
      "Train coordinates sample:\n",
      "         lon        lat\n",
      "0  71.749080  41.396323\n",
      "1  72.901429  41.072193\n",
      "2  72.463988  40.619055\n",
      "3  72.197317  41.627590\n",
      "4  71.312037  41.369462\n",
      "Train lon range: 54.006673861691354 72.9859295922386\n",
      "Train lat range: 40.00926404600921 52.982225224058766\n",
      "Test coordinates sample:\n",
      "   translated_lon  translated_lat\n",
      "0       72.849372       41.510684\n",
      "1       71.910871       41.380469\n",
      "2       72.190803       40.769864\n",
      "3       72.144468       41.652098\n",
      "4       54.717736       51.641874\n",
      "Test lon range: 54.26461772506346 73.2074963114073\n",
      "Test lat range: 40.27936508234601 53.23875936888679\n"
     ]
    }
   ],
   "source": [
    "print(\"Train coordinates sample:\")\n",
    "print(train_gdf[['lon', 'lat']].head())\n",
    "print(\"Train lon range:\", train_gdf['lon'].min(), train_gdf['lon'].max())\n",
    "print(\"Train lat range:\", train_gdf['lat'].min(), train_gdf['lat'].max())\n",
    "\n",
    "print(\"Test coordinates sample:\")\n",
    "print(coords[['translated_lon', 'translated_lat']].head())\n",
    "print(\"Test lon range:\", coords['translated_lon'].min(), coords['translated_lon'].max())\n",
    "print(\"Test lat range:\", coords['translated_lat'].min(), coords['translated_lat'].max())"
   ]
  },
  {
   "cell_type": "code",
   "execution_count": 28,
   "metadata": {
    "execution": {
     "iopub.execute_input": "2025-07-20T10:35:34.744573Z",
     "iopub.status.busy": "2025-07-20T10:35:34.743970Z",
     "iopub.status.idle": "2025-07-20T10:35:34.752413Z",
     "shell.execute_reply": "2025-07-20T10:35:34.751779Z",
     "shell.execute_reply.started": "2025-07-20T10:35:34.744545Z"
    },
    "trusted": true
   },
   "outputs": [],
   "source": [
    "# Increase threshold\n",
    "MAX_DIST = 0.1 \n",
    "\n",
    "# Re-run KDTree matching\n",
    "tree = KDTree(train_gdf[['lon', 'lat']].values)\n",
    "distances, indices = tree.query(coords[['translated_lon', 'translated_lat']].values, k=1)\n",
    "valid_mask = distances.flatten() <= MAX_DIST\n",
    "\n",
    "labels = pd.DataFrame({\n",
    "    'ID': coords['ID'],\n",
    "    'label': np.where(valid_mask, train_gdf.iloc[indices.flatten()]['Cropland'].values, -1),\n",
    "    'distance': distances.flatten()\n",
    "})"
   ]
  },
  {
   "cell_type": "code",
   "execution_count": 29,
   "metadata": {
    "execution": {
     "iopub.execute_input": "2025-07-20T10:35:37.591658Z",
     "iopub.status.busy": "2025-07-20T10:35:37.591418Z",
     "iopub.status.idle": "2025-07-20T10:35:37.600861Z",
     "shell.execute_reply": "2025-07-20T10:35:37.600121Z",
     "shell.execute_reply.started": "2025-07-20T10:35:37.591639Z"
    },
    "trusted": true
   },
   "outputs": [
    {
     "name": "stdout",
     "output_type": "stream",
     "text": [
      "Matched 491/600 points to training labels\n",
      "Final dataset size: (491, 50)\n"
     ]
    }
   ],
   "source": [
    "# Filter valid labels\n",
    "valid_labels = labels[labels['label'] != -1].drop(columns='distance')\n",
    "print(f\"Matched {len(valid_labels)}/{len(coords)} points to training labels\")\n",
    "\n",
    "# Merge features with labels\n",
    "full_data = pd.merge(satellite_data, valid_labels, on='ID')\n",
    "print(f\"Final dataset size: {full_data.shape}\")"
   ]
  },
  {
   "cell_type": "code",
   "execution_count": 30,
   "metadata": {
    "execution": {
     "iopub.execute_input": "2025-07-20T10:35:43.482849Z",
     "iopub.status.busy": "2025-07-20T10:35:43.482579Z",
     "iopub.status.idle": "2025-07-20T10:35:43.500461Z",
     "shell.execute_reply": "2025-07-20T10:35:43.499642Z",
     "shell.execute_reply.started": "2025-07-20T10:35:43.482826Z"
    },
    "trusted": true
   },
   "outputs": [
    {
     "data": {
      "text/html": [
       "<div>\n",
       "<style scoped>\n",
       "    .dataframe tbody tr th:only-of-type {\n",
       "        vertical-align: middle;\n",
       "    }\n",
       "\n",
       "    .dataframe tbody tr th {\n",
       "        vertical-align: top;\n",
       "    }\n",
       "\n",
       "    .dataframe thead th {\n",
       "        text-align: right;\n",
       "    }\n",
       "</style>\n",
       "<table border=\"1\" class=\"dataframe\">\n",
       "  <thead>\n",
       "    <tr style=\"text-align: right;\">\n",
       "      <th></th>\n",
       "      <th>ID</th>\n",
       "      <th>B11_mean</th>\n",
       "      <th>B11_std</th>\n",
       "      <th>B12_mean</th>\n",
       "      <th>B12_std</th>\n",
       "      <th>B2_mean</th>\n",
       "      <th>B2_std</th>\n",
       "      <th>B3_mean</th>\n",
       "      <th>B3_std</th>\n",
       "      <th>B4_mean</th>\n",
       "      <th>...</th>\n",
       "      <th>orbit_std</th>\n",
       "      <th>polarization_mean</th>\n",
       "      <th>polarization_std</th>\n",
       "      <th>rel_orbit_mean</th>\n",
       "      <th>rel_orbit_std</th>\n",
       "      <th>translated_lat_mean_y</th>\n",
       "      <th>translated_lat_std_y</th>\n",
       "      <th>translated_lon_mean_y</th>\n",
       "      <th>translated_lon_std_y</th>\n",
       "      <th>label</th>\n",
       "    </tr>\n",
       "  </thead>\n",
       "  <tbody>\n",
       "    <tr>\n",
       "      <th>0</th>\n",
       "      <td>ID_ABQOQT</td>\n",
       "      <td>4006.207245</td>\n",
       "      <td>948.806093</td>\n",
       "      <td>3214.522401</td>\n",
       "      <td>699.895483</td>\n",
       "      <td>2678.931516</td>\n",
       "      <td>2533.538818</td>\n",
       "      <td>3087.956733</td>\n",
       "      <td>2446.428918</td>\n",
       "      <td>3313.985663</td>\n",
       "      <td>...</td>\n",
       "      <td>0.0</td>\n",
       "      <td>0.0</td>\n",
       "      <td>0.0</td>\n",
       "      <td>5.000000</td>\n",
       "      <td>0.000000</td>\n",
       "      <td>41.510673</td>\n",
       "      <td>0.000134</td>\n",
       "      <td>72.849369</td>\n",
       "      <td>0.000178</td>\n",
       "      <td>0</td>\n",
       "    </tr>\n",
       "    <tr>\n",
       "      <th>1</th>\n",
       "      <td>ID_ADDROF</td>\n",
       "      <td>3616.306531</td>\n",
       "      <td>657.104319</td>\n",
       "      <td>3288.943469</td>\n",
       "      <td>612.300262</td>\n",
       "      <td>2180.467148</td>\n",
       "      <td>793.942887</td>\n",
       "      <td>2551.151900</td>\n",
       "      <td>745.784220</td>\n",
       "      <td>2725.154697</td>\n",
       "      <td>...</td>\n",
       "      <td>0.0</td>\n",
       "      <td>0.0</td>\n",
       "      <td>0.0</td>\n",
       "      <td>40.942498</td>\n",
       "      <td>36.498475</td>\n",
       "      <td>41.380478</td>\n",
       "      <td>0.000134</td>\n",
       "      <td>71.910860</td>\n",
       "      <td>0.000178</td>\n",
       "      <td>0</td>\n",
       "    </tr>\n",
       "    <tr>\n",
       "      <th>2</th>\n",
       "      <td>ID_AFIWZH</td>\n",
       "      <td>3011.973886</td>\n",
       "      <td>594.528719</td>\n",
       "      <td>2534.593781</td>\n",
       "      <td>591.611468</td>\n",
       "      <td>1760.097410</td>\n",
       "      <td>735.938649</td>\n",
       "      <td>2015.750320</td>\n",
       "      <td>689.742879</td>\n",
       "      <td>2055.006831</td>\n",
       "      <td>...</td>\n",
       "      <td>0.0</td>\n",
       "      <td>0.0</td>\n",
       "      <td>0.0</td>\n",
       "      <td>41.150613</td>\n",
       "      <td>36.501058</td>\n",
       "      <td>40.769855</td>\n",
       "      <td>0.000134</td>\n",
       "      <td>72.190805</td>\n",
       "      <td>0.000177</td>\n",
       "      <td>1</td>\n",
       "    </tr>\n",
       "    <tr>\n",
       "      <th>3</th>\n",
       "      <td>ID_AFQOFP</td>\n",
       "      <td>4174.708865</td>\n",
       "      <td>970.557707</td>\n",
       "      <td>3533.380821</td>\n",
       "      <td>834.848863</td>\n",
       "      <td>2459.410762</td>\n",
       "      <td>1700.451288</td>\n",
       "      <td>2913.663884</td>\n",
       "      <td>1596.009589</td>\n",
       "      <td>3316.157296</td>\n",
       "      <td>...</td>\n",
       "      <td>0.0</td>\n",
       "      <td>0.0</td>\n",
       "      <td>0.0</td>\n",
       "      <td>41.857791</td>\n",
       "      <td>36.500917</td>\n",
       "      <td>41.652106</td>\n",
       "      <td>0.000134</td>\n",
       "      <td>72.144470</td>\n",
       "      <td>0.000178</td>\n",
       "      <td>0</td>\n",
       "    </tr>\n",
       "    <tr>\n",
       "      <th>4</th>\n",
       "      <td>ID_AHRONV</td>\n",
       "      <td>3161.708739</td>\n",
       "      <td>960.517873</td>\n",
       "      <td>2645.720038</td>\n",
       "      <td>721.858187</td>\n",
       "      <td>2965.180911</td>\n",
       "      <td>3141.400874</td>\n",
       "      <td>3160.444765</td>\n",
       "      <td>2983.807369</td>\n",
       "      <td>3339.176704</td>\n",
       "      <td>...</td>\n",
       "      <td>0.0</td>\n",
       "      <td>0.0</td>\n",
       "      <td>0.0</td>\n",
       "      <td>57.065246</td>\n",
       "      <td>33.546779</td>\n",
       "      <td>51.641876</td>\n",
       "      <td>0.000133</td>\n",
       "      <td>54.717738</td>\n",
       "      <td>0.000214</td>\n",
       "      <td>0</td>\n",
       "    </tr>\n",
       "  </tbody>\n",
       "</table>\n",
       "<p>5 rows × 50 columns</p>\n",
       "</div>"
      ],
      "text/plain": [
       "          ID     B11_mean     B11_std     B12_mean     B12_std      B2_mean  \\\n",
       "0  ID_ABQOQT  4006.207245  948.806093  3214.522401  699.895483  2678.931516   \n",
       "1  ID_ADDROF  3616.306531  657.104319  3288.943469  612.300262  2180.467148   \n",
       "2  ID_AFIWZH  3011.973886  594.528719  2534.593781  591.611468  1760.097410   \n",
       "3  ID_AFQOFP  4174.708865  970.557707  3533.380821  834.848863  2459.410762   \n",
       "4  ID_AHRONV  3161.708739  960.517873  2645.720038  721.858187  2965.180911   \n",
       "\n",
       "        B2_std      B3_mean       B3_std      B4_mean  ...  orbit_std  \\\n",
       "0  2533.538818  3087.956733  2446.428918  3313.985663  ...        0.0   \n",
       "1   793.942887  2551.151900   745.784220  2725.154697  ...        0.0   \n",
       "2   735.938649  2015.750320   689.742879  2055.006831  ...        0.0   \n",
       "3  1700.451288  2913.663884  1596.009589  3316.157296  ...        0.0   \n",
       "4  3141.400874  3160.444765  2983.807369  3339.176704  ...        0.0   \n",
       "\n",
       "   polarization_mean  polarization_std  rel_orbit_mean  rel_orbit_std  \\\n",
       "0                0.0               0.0        5.000000       0.000000   \n",
       "1                0.0               0.0       40.942498      36.498475   \n",
       "2                0.0               0.0       41.150613      36.501058   \n",
       "3                0.0               0.0       41.857791      36.500917   \n",
       "4                0.0               0.0       57.065246      33.546779   \n",
       "\n",
       "   translated_lat_mean_y  translated_lat_std_y  translated_lon_mean_y  \\\n",
       "0              41.510673              0.000134              72.849369   \n",
       "1              41.380478              0.000134              71.910860   \n",
       "2              40.769855              0.000134              72.190805   \n",
       "3              41.652106              0.000134              72.144470   \n",
       "4              51.641876              0.000133              54.717738   \n",
       "\n",
       "   translated_lon_std_y  label  \n",
       "0              0.000178      0  \n",
       "1              0.000178      0  \n",
       "2              0.000177      1  \n",
       "3              0.000178      0  \n",
       "4              0.000214      0  \n",
       "\n",
       "[5 rows x 50 columns]"
      ]
     },
     "execution_count": 30,
     "metadata": {},
     "output_type": "execute_result"
    }
   ],
   "source": [
    "full_data.head()"
   ]
  },
  {
   "cell_type": "code",
   "execution_count": 31,
   "metadata": {
    "execution": {
     "iopub.execute_input": "2025-07-20T10:36:17.752756Z",
     "iopub.status.busy": "2025-07-20T10:36:17.752175Z",
     "iopub.status.idle": "2025-07-20T10:36:17.760845Z",
     "shell.execute_reply": "2025-07-20T10:36:17.760274Z",
     "shell.execute_reply.started": "2025-07-20T10:36:17.752728Z"
    },
    "trusted": true
   },
   "outputs": [],
   "source": [
    "# Train-test split\n",
    "X = full_data.drop(columns=[\"ID\", \"label\"])\n",
    "y = full_data[\"label\"]\n",
    "X_train, X_val, y_train, y_val = train_test_split(X, y, stratify=y, test_size=0.2, random_state=42)"
   ]
  },
  {
   "cell_type": "code",
   "execution_count": 32,
   "metadata": {
    "execution": {
     "iopub.execute_input": "2025-07-20T10:36:27.248719Z",
     "iopub.status.busy": "2025-07-20T10:36:27.248180Z",
     "iopub.status.idle": "2025-07-20T10:36:27.265047Z",
     "shell.execute_reply": "2025-07-20T10:36:27.264393Z",
     "shell.execute_reply.started": "2025-07-20T10:36:27.248698Z"
    },
    "trusted": true
   },
   "outputs": [
    {
     "data": {
      "text/html": [
       "<div>\n",
       "<style scoped>\n",
       "    .dataframe tbody tr th:only-of-type {\n",
       "        vertical-align: middle;\n",
       "    }\n",
       "\n",
       "    .dataframe tbody tr th {\n",
       "        vertical-align: top;\n",
       "    }\n",
       "\n",
       "    .dataframe thead th {\n",
       "        text-align: right;\n",
       "    }\n",
       "</style>\n",
       "<table border=\"1\" class=\"dataframe\">\n",
       "  <thead>\n",
       "    <tr style=\"text-align: right;\">\n",
       "      <th></th>\n",
       "      <th>B11_mean</th>\n",
       "      <th>B11_std</th>\n",
       "      <th>B12_mean</th>\n",
       "      <th>B12_std</th>\n",
       "      <th>B2_mean</th>\n",
       "      <th>B2_std</th>\n",
       "      <th>B3_mean</th>\n",
       "      <th>B3_std</th>\n",
       "      <th>B4_mean</th>\n",
       "      <th>B4_std</th>\n",
       "      <th>...</th>\n",
       "      <th>orbit_mean</th>\n",
       "      <th>orbit_std</th>\n",
       "      <th>polarization_mean</th>\n",
       "      <th>polarization_std</th>\n",
       "      <th>rel_orbit_mean</th>\n",
       "      <th>rel_orbit_std</th>\n",
       "      <th>translated_lat_mean_y</th>\n",
       "      <th>translated_lat_std_y</th>\n",
       "      <th>translated_lon_mean_y</th>\n",
       "      <th>translated_lon_std_y</th>\n",
       "    </tr>\n",
       "  </thead>\n",
       "  <tbody>\n",
       "    <tr>\n",
       "      <th>0</th>\n",
       "      <td>4006.207245</td>\n",
       "      <td>948.806093</td>\n",
       "      <td>3214.522401</td>\n",
       "      <td>699.895483</td>\n",
       "      <td>2678.931516</td>\n",
       "      <td>2533.538818</td>\n",
       "      <td>3087.956733</td>\n",
       "      <td>2446.428918</td>\n",
       "      <td>3313.985663</td>\n",
       "      <td>2433.901087</td>\n",
       "      <td>...</td>\n",
       "      <td>0.0</td>\n",
       "      <td>0.0</td>\n",
       "      <td>0.0</td>\n",
       "      <td>0.0</td>\n",
       "      <td>5.000000</td>\n",
       "      <td>0.000000</td>\n",
       "      <td>41.510673</td>\n",
       "      <td>0.000134</td>\n",
       "      <td>72.849369</td>\n",
       "      <td>0.000178</td>\n",
       "    </tr>\n",
       "    <tr>\n",
       "      <th>1</th>\n",
       "      <td>3616.306531</td>\n",
       "      <td>657.104319</td>\n",
       "      <td>3288.943469</td>\n",
       "      <td>612.300262</td>\n",
       "      <td>2180.467148</td>\n",
       "      <td>793.942887</td>\n",
       "      <td>2551.151900</td>\n",
       "      <td>745.784220</td>\n",
       "      <td>2725.154697</td>\n",
       "      <td>751.606709</td>\n",
       "      <td>...</td>\n",
       "      <td>0.0</td>\n",
       "      <td>0.0</td>\n",
       "      <td>0.0</td>\n",
       "      <td>0.0</td>\n",
       "      <td>40.942498</td>\n",
       "      <td>36.498475</td>\n",
       "      <td>41.380478</td>\n",
       "      <td>0.000134</td>\n",
       "      <td>71.910860</td>\n",
       "      <td>0.000178</td>\n",
       "    </tr>\n",
       "    <tr>\n",
       "      <th>2</th>\n",
       "      <td>3011.973886</td>\n",
       "      <td>594.528719</td>\n",
       "      <td>2534.593781</td>\n",
       "      <td>591.611468</td>\n",
       "      <td>1760.097410</td>\n",
       "      <td>735.938649</td>\n",
       "      <td>2015.750320</td>\n",
       "      <td>689.742879</td>\n",
       "      <td>2055.006831</td>\n",
       "      <td>735.944600</td>\n",
       "      <td>...</td>\n",
       "      <td>0.0</td>\n",
       "      <td>0.0</td>\n",
       "      <td>0.0</td>\n",
       "      <td>0.0</td>\n",
       "      <td>41.150613</td>\n",
       "      <td>36.501058</td>\n",
       "      <td>40.769855</td>\n",
       "      <td>0.000134</td>\n",
       "      <td>72.190805</td>\n",
       "      <td>0.000177</td>\n",
       "    </tr>\n",
       "    <tr>\n",
       "      <th>3</th>\n",
       "      <td>4174.708865</td>\n",
       "      <td>970.557707</td>\n",
       "      <td>3533.380821</td>\n",
       "      <td>834.848863</td>\n",
       "      <td>2459.410762</td>\n",
       "      <td>1700.451288</td>\n",
       "      <td>2913.663884</td>\n",
       "      <td>1596.009589</td>\n",
       "      <td>3316.157296</td>\n",
       "      <td>1587.071475</td>\n",
       "      <td>...</td>\n",
       "      <td>0.0</td>\n",
       "      <td>0.0</td>\n",
       "      <td>0.0</td>\n",
       "      <td>0.0</td>\n",
       "      <td>41.857791</td>\n",
       "      <td>36.500917</td>\n",
       "      <td>41.652106</td>\n",
       "      <td>0.000134</td>\n",
       "      <td>72.144470</td>\n",
       "      <td>0.000178</td>\n",
       "    </tr>\n",
       "    <tr>\n",
       "      <th>4</th>\n",
       "      <td>3161.708739</td>\n",
       "      <td>960.517873</td>\n",
       "      <td>2645.720038</td>\n",
       "      <td>721.858187</td>\n",
       "      <td>2965.180911</td>\n",
       "      <td>3141.400874</td>\n",
       "      <td>3160.444765</td>\n",
       "      <td>2983.807369</td>\n",
       "      <td>3339.176704</td>\n",
       "      <td>2959.411936</td>\n",
       "      <td>...</td>\n",
       "      <td>0.0</td>\n",
       "      <td>0.0</td>\n",
       "      <td>0.0</td>\n",
       "      <td>0.0</td>\n",
       "      <td>57.065246</td>\n",
       "      <td>33.546779</td>\n",
       "      <td>51.641876</td>\n",
       "      <td>0.000133</td>\n",
       "      <td>54.717738</td>\n",
       "      <td>0.000214</td>\n",
       "    </tr>\n",
       "  </tbody>\n",
       "</table>\n",
       "<p>5 rows × 48 columns</p>\n",
       "</div>"
      ],
      "text/plain": [
       "      B11_mean     B11_std     B12_mean     B12_std      B2_mean       B2_std  \\\n",
       "0  4006.207245  948.806093  3214.522401  699.895483  2678.931516  2533.538818   \n",
       "1  3616.306531  657.104319  3288.943469  612.300262  2180.467148   793.942887   \n",
       "2  3011.973886  594.528719  2534.593781  591.611468  1760.097410   735.938649   \n",
       "3  4174.708865  970.557707  3533.380821  834.848863  2459.410762  1700.451288   \n",
       "4  3161.708739  960.517873  2645.720038  721.858187  2965.180911  3141.400874   \n",
       "\n",
       "       B3_mean       B3_std      B4_mean       B4_std  ...  orbit_mean  \\\n",
       "0  3087.956733  2446.428918  3313.985663  2433.901087  ...         0.0   \n",
       "1  2551.151900   745.784220  2725.154697   751.606709  ...         0.0   \n",
       "2  2015.750320   689.742879  2055.006831   735.944600  ...         0.0   \n",
       "3  2913.663884  1596.009589  3316.157296  1587.071475  ...         0.0   \n",
       "4  3160.444765  2983.807369  3339.176704  2959.411936  ...         0.0   \n",
       "\n",
       "   orbit_std  polarization_mean  polarization_std  rel_orbit_mean  \\\n",
       "0        0.0                0.0               0.0        5.000000   \n",
       "1        0.0                0.0               0.0       40.942498   \n",
       "2        0.0                0.0               0.0       41.150613   \n",
       "3        0.0                0.0               0.0       41.857791   \n",
       "4        0.0                0.0               0.0       57.065246   \n",
       "\n",
       "   rel_orbit_std  translated_lat_mean_y  translated_lat_std_y  \\\n",
       "0       0.000000              41.510673              0.000134   \n",
       "1      36.498475              41.380478              0.000134   \n",
       "2      36.501058              40.769855              0.000134   \n",
       "3      36.500917              41.652106              0.000134   \n",
       "4      33.546779              51.641876              0.000133   \n",
       "\n",
       "   translated_lon_mean_y  translated_lon_std_y  \n",
       "0              72.849369              0.000178  \n",
       "1              71.910860              0.000178  \n",
       "2              72.190805              0.000177  \n",
       "3              72.144470              0.000178  \n",
       "4              54.717738              0.000214  \n",
       "\n",
       "[5 rows x 48 columns]"
      ]
     },
     "execution_count": 32,
     "metadata": {},
     "output_type": "execute_result"
    }
   ],
   "source": [
    "X.head()"
   ]
  },
  {
   "cell_type": "code",
   "execution_count": 33,
   "metadata": {
    "execution": {
     "iopub.execute_input": "2025-07-20T10:36:36.648437Z",
     "iopub.status.busy": "2025-07-20T10:36:36.648154Z",
     "iopub.status.idle": "2025-07-20T10:36:36.653552Z",
     "shell.execute_reply": "2025-07-20T10:36:36.652929Z",
     "shell.execute_reply.started": "2025-07-20T10:36:36.648415Z"
    },
    "trusted": true
   },
   "outputs": [
    {
     "data": {
      "text/plain": [
       "0    0\n",
       "1    0\n",
       "2    1\n",
       "3    0\n",
       "4    0\n",
       "Name: label, dtype: int64"
      ]
     },
     "execution_count": 33,
     "metadata": {},
     "output_type": "execute_result"
    }
   ],
   "source": [
    "y.head()"
   ]
  },
  {
   "cell_type": "code",
   "execution_count": 64,
   "metadata": {
    "execution": {
     "iopub.execute_input": "2025-07-20T11:16:22.738728Z",
     "iopub.status.busy": "2025-07-20T11:16:22.738129Z",
     "iopub.status.idle": "2025-07-20T11:16:29.161913Z",
     "shell.execute_reply": "2025-07-20T11:16:29.161117Z",
     "shell.execute_reply.started": "2025-07-20T11:16:22.738704Z"
    },
    "trusted": true
   },
   "outputs": [
    {
     "name": "stdout",
     "output_type": "stream",
     "text": [
      "Using only columns present in both train and test: ['VH_mean', 'B2_mean', 'B7_std', 'B12_mean', 'B2_std', 'VV_std', 'B6_std', 'B5_mean', 'NDVI_mean', 'B4_std', 'B8_std', 'B3_mean', 'B12_std', 'B3_std', 'B11_std', 'B7_mean', 'NDWI_mean', 'B8A_std', 'B8A_mean', 'B6_mean', 'B4_mean', 'B8_mean', 'B11_mean', 'NDVI_std', 'NDWI_std', 'B5_std', 'VH_std', 'VV_mean']\n",
      "Dropping all-zero columns from train/val/test: []\n"
     ]
    }
   ],
   "source": [
    "# Prepare test meta and filter Sentinel data\n",
    "test_meta = pd.read_csv(\"/kaggle/input/geoai-challenge-for-cropland-mapping-dry-dataset/Test.csv\")\n",
    "test_ids = test_meta[\"ID\"].unique()\n",
    "s1_test = s1[s1[\"ID\"].isin(test_ids)]\n",
    "s2_test = s2[s2[\"ID\"].isin(test_ids)]\n",
    "\n",
    "# Apply all feature engineering to test set\n",
    "s2_test = calculate_vegetation_indices(s2_test)\n",
    "\n",
    "# Aggregate features for test set\n",
    "s1_test_feats = aggregate_features(s1_test[[\"ID\", \"VH\", \"VV\"]])\n",
    "s2_test_feats = aggregate_features(\n",
    "    s2_test[[\"ID\", \"B2\", \"B3\", \"B4\", \"B5\", \"B6\", \"B7\", \"B8\", \"B8A\", \"B11\", \"B12\", \"NDVI\", \"NDWI\"]]\n",
    ")\n",
    "\n",
    "# Ensure 'ID' is a column\n",
    "if 'ID' not in s1_test_feats.columns:\n",
    "    s1_test_feats = s1_test_feats.reset_index()\n",
    "if 'ID' not in s2_test_feats.columns:\n",
    "    s2_test_feats = s2_test_feats.reset_index()\n",
    "\n",
    "# Merge features\n",
    "test_df = pd.merge(s2_test_feats, s1_test_feats, on=\"ID\", how=\"outer\").fillna(0)\n",
    "X_test = test_df.drop(columns=[\"ID\"])\n",
    "\n",
    "# Now, find common columns between train and test\n",
    "common_cols = list(set(X_train.columns) & set(X_test.columns))\n",
    "print(\"Using only columns present in both train and test:\", common_cols)\n",
    "\n",
    "# Subset all sets to these columns\n",
    "X_train = X_train[common_cols]\n",
    "X_val = X_val[common_cols]\n",
    "X_test = X_test[common_cols]\n",
    "\n",
    "# Drop all-zero columns from train/val/test \n",
    "zero_cols = [col for col in X_train.columns if (X_train[col].sum() == 0 and X_val[col].sum() == 0 and X_test[col].sum() == 0)]\n",
    "print(\"Dropping all-zero columns from train/val/test:\", zero_cols)\n",
    "\n",
    "X_train = X_train.drop(columns=zero_cols)\n",
    "X_val = X_val.drop(columns=zero_cols)\n",
    "X_test = X_test.drop(columns=zero_cols)\n",
    "\n",
    "# Final alignment (should not error now)\n",
    "X_val = X_val[X_train.columns]\n",
    "X_test = X_test[X_train.columns]"
   ]
  },
  {
   "cell_type": "markdown",
   "metadata": {},
   "source": [
    "### CNN Model"
   ]
  },
  {
   "cell_type": "code",
   "execution_count": 65,
   "metadata": {
    "execution": {
     "iopub.execute_input": "2025-07-20T11:16:29.163516Z",
     "iopub.status.busy": "2025-07-20T11:16:29.163044Z",
     "iopub.status.idle": "2025-07-20T11:16:29.218900Z",
     "shell.execute_reply": "2025-07-20T11:16:29.218127Z",
     "shell.execute_reply.started": "2025-07-20T11:16:29.163497Z"
    },
    "trusted": true
   },
   "outputs": [],
   "source": [
    "# Apply SMOTE to training data ONLY (before scaling)\n",
    "smote = SMOTE(random_state=42)\n",
    "X_train_res, y_train_res = smote.fit_resample(X_train, y_train)\n",
    "\n",
    "# Now scale AFTER resampling\n",
    "scaler = StandardScaler()\n",
    "X_train_scaled = scaler.fit_transform(X_train_res)  # Fit on resampled data\n",
    "X_val_scaled = scaler.transform(X_val)              # Transform validation\n",
    "\n",
    "# Reshape for CNN: (samples, features, 1)\n",
    "X_train_cnn = np.expand_dims(X_train_scaled, axis=2)\n",
    "X_val_cnn = np.expand_dims(X_val_scaled, axis=2)\n",
    "\n",
    "# Encode labels - use original class count\n",
    "num_classes = len(np.unique(y_train))  # Important: Use original class count\n",
    "y_train_cnn = to_categorical(y_train_res, num_classes)  # Use resampled labels\n",
    "y_val_cnn = to_categorical(y_val, num_classes)\n",
    "\n",
    "# Build the CNN model (same as before)\n",
    "model = Sequential([\n",
    "    Input(shape=(X_train_cnn.shape[1], 1)),\n",
    "    Conv1D(32, kernel_size=3, activation='relu'),\n",
    "    Dropout(0.2),\n",
    "    Conv1D(64, kernel_size=3, activation='relu'),\n",
    "    Flatten(),\n",
    "    Dense(64, activation='relu'),\n",
    "    Dense(num_classes, activation='softmax')\n",
    "])\n",
    "\n",
    "model.compile(optimizer='adam', loss='categorical_crossentropy', metrics=['accuracy'])"
   ]
  },
  {
   "cell_type": "code",
   "execution_count": 66,
   "metadata": {
    "execution": {
     "iopub.execute_input": "2025-07-20T11:16:32.188805Z",
     "iopub.status.busy": "2025-07-20T11:16:32.188128Z",
     "iopub.status.idle": "2025-07-20T11:16:37.851548Z",
     "shell.execute_reply": "2025-07-20T11:16:37.850912Z",
     "shell.execute_reply.started": "2025-07-20T11:16:32.188780Z"
    },
    "trusted": true
   },
   "outputs": [
    {
     "name": "stdout",
     "output_type": "stream",
     "text": [
      "Epoch 1/30\n",
      "\n",
      "Epoch 1: val_accuracy improved from -inf to 0.63636, saving model to best_cnn_model.h5\n",
      "16/16 - 4s - 271ms/step - accuracy: 0.5784 - loss: 0.6923 - val_accuracy: 0.6364 - val_loss: 0.6660\n",
      "Epoch 2/30\n",
      "\n",
      "Epoch 2: val_accuracy did not improve from 0.63636\n",
      "16/16 - 0s - 7ms/step - accuracy: 0.6490 - loss: 0.6430 - val_accuracy: 0.6364 - val_loss: 0.6495\n",
      "Epoch 3/30\n",
      "\n",
      "Epoch 3: val_accuracy improved from 0.63636 to 0.67677, saving model to best_cnn_model.h5\n",
      "16/16 - 0s - 9ms/step - accuracy: 0.6549 - loss: 0.6319 - val_accuracy: 0.6768 - val_loss: 0.6202\n",
      "Epoch 4/30\n",
      "\n",
      "Epoch 4: val_accuracy did not improve from 0.67677\n",
      "16/16 - 0s - 7ms/step - accuracy: 0.6725 - loss: 0.6148 - val_accuracy: 0.6667 - val_loss: 0.6038\n",
      "Epoch 5/30\n",
      "\n",
      "Epoch 5: val_accuracy did not improve from 0.67677\n",
      "16/16 - 0s - 7ms/step - accuracy: 0.6647 - loss: 0.6085 - val_accuracy: 0.6263 - val_loss: 0.6398\n",
      "Epoch 6/30\n",
      "\n",
      "Epoch 6: val_accuracy improved from 0.67677 to 0.68687, saving model to best_cnn_model.h5\n",
      "16/16 - 0s - 9ms/step - accuracy: 0.6902 - loss: 0.6062 - val_accuracy: 0.6869 - val_loss: 0.5983\n",
      "Epoch 7/30\n",
      "\n",
      "Epoch 7: val_accuracy did not improve from 0.68687\n",
      "16/16 - 0s - 7ms/step - accuracy: 0.7000 - loss: 0.5907 - val_accuracy: 0.6162 - val_loss: 0.6656\n",
      "Epoch 8/30\n",
      "\n",
      "Epoch 8: val_accuracy did not improve from 0.68687\n",
      "16/16 - 0s - 7ms/step - accuracy: 0.7078 - loss: 0.5811 - val_accuracy: 0.6162 - val_loss: 0.6661\n",
      "Epoch 9/30\n",
      "\n",
      "Epoch 9: val_accuracy did not improve from 0.68687\n",
      "16/16 - 0s - 7ms/step - accuracy: 0.6902 - loss: 0.5893 - val_accuracy: 0.6566 - val_loss: 0.6236\n",
      "Epoch 10/30\n",
      "\n",
      "Epoch 10: val_accuracy did not improve from 0.68687\n",
      "16/16 - 0s - 7ms/step - accuracy: 0.7000 - loss: 0.5724 - val_accuracy: 0.6566 - val_loss: 0.6016\n",
      "Epoch 11/30\n",
      "\n",
      "Epoch 11: val_accuracy did not improve from 0.68687\n",
      "16/16 - 0s - 7ms/step - accuracy: 0.6804 - loss: 0.5797 - val_accuracy: 0.6667 - val_loss: 0.6149\n",
      "Epoch 11: early stopping\n",
      "Restoring model weights from the end of the best epoch: 6.\n"
     ]
    }
   ],
   "source": [
    "# Add Early Stopping callback\n",
    "early_stopping = EarlyStopping(\n",
    "    monitor='val_accuracy',\n",
    "    patience=5,\n",
    "    restore_best_weights=True,\n",
    "    mode='max',\n",
    "    verbose=1\n",
    ")\n",
    "\n",
    "# Save the best model callback\n",
    "checkpoint = ModelCheckpoint('best_cnn_model.h5', \n",
    "                             monitor='val_accuracy',\n",
    "                             save_best_only=True,\n",
    "                             mode='max',\n",
    "                             verbose=1)\n",
    "\n",
    "# Train the model with both callbacks\n",
    "history = model.fit(\n",
    "    X_train_cnn, y_train_cnn,          # Resampled and scaled training data\n",
    "    epochs=30,\n",
    "    batch_size=32,\n",
    "    validation_data=(X_val_cnn, y_val_cnn),  # Scaled validation data\n",
    "    callbacks=[checkpoint, early_stopping],  # Both callbacks\n",
    "    verbose=2\n",
    ")"
   ]
  },
  {
   "cell_type": "code",
   "execution_count": 67,
   "metadata": {
    "execution": {
     "iopub.execute_input": "2025-07-20T11:16:43.525796Z",
     "iopub.status.busy": "2025-07-20T11:16:43.525547Z",
     "iopub.status.idle": "2025-07-20T11:16:43.623608Z",
     "shell.execute_reply": "2025-07-20T11:16:43.622933Z",
     "shell.execute_reply.started": "2025-07-20T11:16:43.525780Z"
    },
    "trusted": true
   },
   "outputs": [
    {
     "name": "stdout",
     "output_type": "stream",
     "text": [
      "Validation Accuracy: 0.6868686676025391\n"
     ]
    }
   ],
   "source": [
    "# Evaluate on validation set\n",
    "val_loss, val_acc = model.evaluate(X_val_cnn, y_val_cnn, verbose=0)\n",
    "print(\"Validation Accuracy:\", val_acc)"
   ]
  },
  {
   "cell_type": "code",
   "execution_count": 69,
   "metadata": {
    "execution": {
     "iopub.execute_input": "2025-07-20T11:17:01.669300Z",
     "iopub.status.busy": "2025-07-20T11:17:01.669018Z",
     "iopub.status.idle": "2025-07-20T11:17:02.029088Z",
     "shell.execute_reply": "2025-07-20T11:17:02.028324Z",
     "shell.execute_reply.started": "2025-07-20T11:17:01.669280Z"
    },
    "trusted": true
   },
   "outputs": [
    {
     "data": {
      "image/png": "[encoded data removed]",
      "text/plain": [
       "<Figure size 1200x500 with 2 Axes>"
      ]
     },
     "metadata": {},
     "output_type": "display_data"
    }
   ],
   "source": [
    "# Plot training & validation accuracy and loss\n",
    "plt.figure(figsize=(12,5))\n",
    "\n",
    "plt.subplot(1,2,1)\n",
    "plt.plot(history.history['accuracy'], label='Train Acc')\n",
    "plt.plot(history.history['val_accuracy'], label='Val Acc')\n",
    "plt.xlabel('Epoch')\n",
    "plt.ylabel('Accuracy')\n",
    "plt.legend()\n",
    "plt.title('Model Accuracy')\n",
    "\n",
    "plt.subplot(1,2,2)\n",
    "plt.plot(history.history['loss'], label='Train Loss')\n",
    "plt.plot(history.history['val_loss'], label='Val Loss')\n",
    "plt.xlabel('Epoch')\n",
    "plt.ylabel('Loss')\n",
    "plt.legend()\n",
    "plt.title('Model Loss')\n",
    "\n",
    "plt.tight_layout()\n",
    "plt.show()"
   ]
  },
  {
   "cell_type": "code",
   "execution_count": 71,
   "metadata": {
    "execution": {
     "iopub.execute_input": "2025-07-20T11:17:07.492679Z",
     "iopub.status.busy": "2025-07-20T11:17:07.492399Z",
     "iopub.status.idle": "2025-07-20T11:17:07.726285Z",
     "shell.execute_reply": "2025-07-20T11:17:07.725635Z",
     "shell.execute_reply.started": "2025-07-20T11:17:07.492658Z"
    },
    "trusted": true
   },
   "outputs": [
    {
     "name": "stdout",
     "output_type": "stream",
     "text": [
      "\u001b[1m4/4\u001b[0m \u001b[32m━━━━━━━━━━━━━━━━━━━━\u001b[0m\u001b[37m\u001b[0m \u001b[1m0s\u001b[0m 6ms/step \n"
     ]
    },
    {
     "data": {
      "image/png": "[encoded data removed]",
      "text/plain": [
       "<Figure size 640x480 with 2 Axes>"
      ]
     },
     "metadata": {},
     "output_type": "display_data"
    }
   ],
   "source": [
    "# Predict on validation set\n",
    "y_val_pred = np.argmax(model.predict(X_val_cnn), axis=1)\n",
    "cm = confusion_matrix(np.argmax(y_val_cnn, axis=1), y_val_pred)\n",
    "disp = ConfusionMatrixDisplay(confusion_matrix=cm)\n",
    "disp.plot(cmap='Blues')\n",
    "plt.title('Validation Confusion Matrix')\n",
    "plt.show()"
   ]
  },
  {
   "cell_type": "code",
   "execution_count": 72,
   "metadata": {
    "execution": {
     "iopub.execute_input": "2025-07-20T11:17:15.491661Z",
     "iopub.status.busy": "2025-07-20T11:17:15.490975Z",
     "iopub.status.idle": "2025-07-20T11:17:15.710453Z",
     "shell.execute_reply": "2025-07-20T11:17:15.709833Z",
     "shell.execute_reply.started": "2025-07-20T11:17:15.491636Z"
    },
    "trusted": true
   },
   "outputs": [
    {
     "name": "stdout",
     "output_type": "stream",
     "text": [
      "\u001b[1m19/19\u001b[0m \u001b[32m━━━━━━━━━━━━━━━━━━━━\u001b[0m\u001b[37m\u001b[0m \u001b[1m0s\u001b[0m 8ms/step\n"
     ]
    }
   ],
   "source": [
    "# Scale and predict\n",
    "X_test_scaled = scaler.transform(X_test)\n",
    "X_test_cnn = np.expand_dims(X_test_scaled, axis=2)\n",
    "test_preds = model.predict(X_test_cnn)"
   ]
  },
  {
   "cell_type": "markdown",
   "metadata": {},
   "source": [
    "#### Apply All Feature Engineering to Test Set"
   ]
  },
  {
   "cell_type": "code",
   "execution_count": 73,
   "metadata": {
    "execution": {
     "iopub.execute_input": "2025-07-20T11:17:17.494233Z",
     "iopub.status.busy": "2025-07-20T11:17:17.493956Z",
     "iopub.status.idle": "2025-07-20T11:17:17.500823Z",
     "shell.execute_reply": "2025-07-20T11:17:17.500095Z",
     "shell.execute_reply.started": "2025-07-20T11:17:17.494207Z"
    },
    "trusted": true
   },
   "outputs": [],
   "source": [
    "# Save predictions to CSV\n",
    "predicted_labels = np.argmax(test_preds, axis=1)\n",
    "submission = pd.DataFrame({'ID': test_df['ID'], 'label': predicted_labels})\n",
    "submission.to_csv('submission.csv', index=False)"
   ]
  },
  {
   "cell_type": "code",
   "execution_count": 74,
   "metadata": {
    "execution": {
     "iopub.execute_input": "2025-07-20T11:17:20.993872Z",
     "iopub.status.busy": "2025-07-20T11:17:20.993285Z",
     "iopub.status.idle": "2025-07-20T11:17:21.121271Z",
     "shell.execute_reply": "2025-07-20T11:17:21.120499Z",
     "shell.execute_reply.started": "2025-07-20T11:17:20.993850Z"
    },
    "trusted": true
   },
   "outputs": [
    {
     "data": {
      "image/png": "[encoded data removed]",
      "text/plain": [
       "<Figure size 600x400 with 1 Axes>"
      ]
     },
     "metadata": {},
     "output_type": "display_data"
    }
   ],
   "source": [
    "plt.figure(figsize=(6,4))\n",
    "submission['label'].value_counts().sort_index().plot(kind='bar')\n",
    "plt.xlabel('Predicted Label')\n",
    "plt.ylabel('Count')\n",
    "plt.title('CNN Test Set Predicted Label Distribution')\n",
    "plt.show()"
   ]
  },
  {
   "cell_type": "code",
   "execution_count": 44,
   "metadata": {
    "execution": {
     "iopub.execute_input": "2025-07-20T11:13:57.100285Z",
     "iopub.status.busy": "2025-07-20T11:13:57.099747Z",
     "iopub.status.idle": "2025-07-20T11:13:57.145847Z",
     "shell.execute_reply": "2025-07-20T11:13:57.145182Z",
     "shell.execute_reply.started": "2025-07-20T11:13:57.100261Z"
    },
    "trusted": true
   },
   "outputs": [
    {
     "name": "stdout",
     "output_type": "stream",
     "text": [
      "          VH_mean      B2_mean       B7_std     B12_mean       B2_std  \\\n",
      "count  600.000000   600.000000   600.000000   600.000000   600.000000   \n",
      "mean   -21.334946  2576.786660  1897.813099  2607.685406  2227.081294   \n",
      "std      3.774338   764.506547   872.715276   468.603517  1185.083480   \n",
      "min    -30.214556  1160.569411   460.871038  1156.314927   409.896329   \n",
      "25%    -24.098618  1890.424302  1044.524682  2334.549336   981.858478   \n",
      "50%    -22.031884  2533.353603  2031.103373  2529.967371  2577.753407   \n",
      "75%    -18.998766  3171.538776  2746.040118  2802.112166  3364.704355   \n",
      "max     -6.127549  6829.087494  3715.804318  4747.710337  4569.843600   \n",
      "\n",
      "           VV_std       B6_std      B5_mean   NDVI_mean       B4_std  ...  \\\n",
      "count  600.000000   600.000000   600.000000  600.000000   600.000000  ...   \n",
      "mean     3.248547  1966.072684  3206.425591    0.198601  2143.359856  ...   \n",
      "std      0.782760   993.203460   688.229645    0.083818  1116.919785  ...   \n",
      "min      1.808987   450.699394  1102.523655   -0.091128   435.487816  ...   \n",
      "25%      2.711402   946.791902  2639.676415    0.147153   989.888334  ...   \n",
      "50%      3.146067  2172.396455  3242.539021    0.178412  2438.656020  ...   \n",
      "75%      3.652974  2930.945268  3670.997643    0.251746  3202.508636  ...   \n",
      "max      7.187311  3933.184069  6895.397616    0.469320  4230.738725  ...   \n",
      "\n",
      "          B8A_mean      B6_mean      B4_mean      B8_mean     B11_mean  \\\n",
      "count   600.000000   600.000000   600.000000   600.000000   600.000000   \n",
      "mean   3883.419934  3659.527220  2898.241984  3898.611146  3030.382330   \n",
      "std     496.960269   545.400584   734.433856   525.765265   484.626262   \n",
      "min    1038.317328  1015.725321  1081.271431  1011.058043  1189.060302   \n",
      "25%    3616.695740  3330.921598  2277.918774  3602.786179  2695.825177   \n",
      "50%    3870.418975  3604.833669  2953.432775  3871.393546  2968.750444   \n",
      "75%    4122.592319  3962.314307  3419.112786  4177.847456  3217.485187   \n",
      "max    6511.675268  6815.377844  6709.184453  6624.341182  5112.277773   \n",
      "\n",
      "         NDVI_std    NDWI_std       B5_std      VH_std     VV_mean  \n",
      "count  600.000000  600.000000   600.000000  600.000000  600.000000  \n",
      "mean     0.151181    0.147483  2092.486200    4.331884  -12.166545  \n",
      "std      0.057049    0.046907  1132.147160    1.168982    3.346897  \n",
      "min      0.016844    0.021807   440.805954    1.973125  -22.118060  \n",
      "25%      0.117452    0.125972   904.781654    3.449203  -14.198960  \n",
      "50%      0.153340    0.154196  2377.116276    4.327696  -12.309291  \n",
      "75%      0.190739    0.178572  3177.252297    5.160477  -10.330188  \n",
      "max      0.284924    0.265101  4088.162812    7.638833    2.402490  \n",
      "\n",
      "[8 rows x 28 columns]\n",
      "VH_mean      0\n",
      "B2_mean      0\n",
      "B7_std       0\n",
      "B12_mean     0\n",
      "B2_std       0\n",
      "VV_std       0\n",
      "B6_std       0\n",
      "B5_mean      0\n",
      "NDVI_mean    0\n",
      "B4_std       0\n",
      "B8_std       0\n",
      "B3_mean      0\n",
      "B12_std      0\n",
      "B3_std       0\n",
      "B11_std      0\n",
      "B7_mean      0\n",
      "NDWI_mean    0\n",
      "B8A_std      0\n",
      "B8A_mean     0\n",
      "B6_mean      0\n",
      "B4_mean      0\n",
      "B8_mean      0\n",
      "B11_mean     0\n",
      "NDVI_std     0\n",
      "NDWI_std     0\n",
      "B5_std       0\n",
      "VH_std       0\n",
      "VV_mean      0\n",
      "dtype: int64\n"
     ]
    }
   ],
   "source": [
    "print(X_test.describe())\n",
    "print((X_test == 0).sum())"
   ]
  },
  {
   "cell_type": "code",
   "execution_count": 45,
   "metadata": {
    "execution": {
     "iopub.execute_input": "2025-07-20T11:14:01.248676Z",
     "iopub.status.busy": "2025-07-20T11:14:01.248422Z",
     "iopub.status.idle": "2025-07-20T11:14:01.253680Z",
     "shell.execute_reply": "2025-07-20T11:14:01.253045Z",
     "shell.execute_reply.started": "2025-07-20T11:14:01.248658Z"
    },
    "trusted": true
   },
   "outputs": [
    {
     "name": "stdout",
     "output_type": "stream",
     "text": [
      "label\n",
      "0    255\n",
      "1    137\n",
      "Name: count, dtype: int64\n"
     ]
    }
   ],
   "source": [
    "print(y_train.value_counts())"
   ]
  },
  {
   "cell_type": "code",
   "execution_count": 46,
   "metadata": {
    "execution": {
     "iopub.execute_input": "2025-07-20T11:14:06.711815Z",
     "iopub.status.busy": "2025-07-20T11:14:06.711576Z",
     "iopub.status.idle": "2025-07-20T11:14:06.805865Z",
     "shell.execute_reply": "2025-07-20T11:14:06.805255Z",
     "shell.execute_reply.started": "2025-07-20T11:14:06.711797Z"
    },
    "trusted": true
   },
   "outputs": [
    {
     "name": "stdout",
     "output_type": "stream",
     "text": [
      "\u001b[1m4/4\u001b[0m \u001b[32m━━━━━━━━━━━━━━━━━━━━\u001b[0m\u001b[37m\u001b[0m \u001b[1m0s\u001b[0m 7ms/step \n",
      "(array([0, 1]), array([48, 51]))\n"
     ]
    }
   ],
   "source": [
    "y_val_pred = np.argmax(model.predict(X_val_cnn), axis=1)\n",
    "print(np.unique(y_val_pred, return_counts=True))"
   ]
  },
  {
   "cell_type": "markdown",
   "metadata": {},
   "source": [
    "### Random Forest Model"
   ]
  },
  {
   "cell_type": "code",
   "execution_count": 47,
   "metadata": {
    "execution": {
     "iopub.execute_input": "2025-07-20T11:14:21.239902Z",
     "iopub.status.busy": "2025-07-20T11:14:21.239612Z",
     "iopub.status.idle": "2025-07-20T11:14:21.680854Z",
     "shell.execute_reply": "2025-07-20T11:14:21.680207Z",
     "shell.execute_reply.started": "2025-07-20T11:14:21.239861Z"
    },
    "trusted": true
   },
   "outputs": [
    {
     "name": "stdout",
     "output_type": "stream",
     "text": [
      "Random Forest Validation Accuracy: 0.6464646464646465\n",
      "Random Forest F1 Score: 0.6452730881446755\n"
     ]
    },
    {
     "data": {
      "image/png": "[encoded data removed]",
      "text/plain": [
       "<Figure size 640x480 with 2 Axes>"
      ]
     },
     "metadata": {},
     "output_type": "display_data"
    }
   ],
   "source": [
    "smote = SMOTE(random_state=42)\n",
    "X_train_rf, y_train_rf = smote.fit_resample(X_train, y_train)\n",
    "\n",
    "# Train Random Forest\n",
    "rf = RandomForestClassifier(n_estimators=100, random_state=42, n_jobs=-1)\n",
    "rf.fit(X_train_rf, y_train_rf)\n",
    "\n",
    "# Predict on validation set\n",
    "y_val_pred_rf = rf.predict(X_val)\n",
    "\n",
    "# Evaluate\n",
    "print(\"Random Forest Validation Accuracy:\", accuracy_score(y_val, y_val_pred_rf))\n",
    "print(\"Random Forest F1 Score:\", f1_score(y_val, y_val_pred_rf, average='weighted'))\n",
    "\n",
    "# Confusion Matrix\n",
    "cm = confusion_matrix(y_val, y_val_pred_rf)\n",
    "disp = ConfusionMatrixDisplay(confusion_matrix=cm)\n",
    "disp.plot(cmap='Blues')\n",
    "plt.title('Random Forest Validation Confusion Matrix')\n",
    "plt.show()"
   ]
  },
  {
   "cell_type": "code",
   "execution_count": 48,
   "metadata": {
    "execution": {
     "iopub.execute_input": "2025-07-20T11:14:30.470730Z",
     "iopub.status.busy": "2025-07-20T11:14:30.470443Z",
     "iopub.status.idle": "2025-07-20T11:14:30.513375Z",
     "shell.execute_reply": "2025-07-20T11:14:30.512778Z",
     "shell.execute_reply.started": "2025-07-20T11:14:30.470709Z"
    },
    "trusted": true
   },
   "outputs": [],
   "source": [
    "# Predict on test set\n",
    "test_preds_rf = rf.predict(X_test)\n",
    "\n",
    "# Save predictions to CSV\n",
    "submission_rf = pd.DataFrame({'ID': test_df['ID'], 'label': test_preds_rf})\n",
    "submission_rf.to_csv('submission_rf.csv', index=False)"
   ]
  },
  {
   "cell_type": "code",
   "execution_count": 49,
   "metadata": {
    "execution": {
     "iopub.execute_input": "2025-07-20T11:14:30.982686Z",
     "iopub.status.busy": "2025-07-20T11:14:30.982441Z",
     "iopub.status.idle": "2025-07-20T11:14:31.118624Z",
     "shell.execute_reply": "2025-07-20T11:14:31.117855Z",
     "shell.execute_reply.started": "2025-07-20T11:14:30.982668Z"
    },
    "trusted": true
   },
   "outputs": [
    {
     "data": {
      "image/png": "[encoded data removed]",
      "text/plain": [
       "<Figure size 600x400 with 1 Axes>"
      ]
     },
     "metadata": {},
     "output_type": "display_data"
    }
   ],
   "source": [
    "plt.figure(figsize=(6,4))\n",
    "pd.Series(test_preds_rf).value_counts().sort_index().plot(kind='bar')\n",
    "plt.xlabel('Predicted Label')\n",
    "plt.ylabel('Count')\n",
    "plt.title('Random Forest Test Set Predicted Label Distribution')\n",
    "plt.show()"
   ]
  },
  {
   "cell_type": "code",
   "execution_count": null,
   "metadata": {
    "trusted": true
   },
   "outputs": [],
   "source": []
  }
 ],
 "metadata": {
  "kaggle": {
   "accelerator": "gpu",
   "dataSources": [
    {
     "datasetId": 7786036,
     "sourceId": 12350307,
     "sourceType": "datasetVersion"
    }
   ],
   "dockerImageVersionId": 31090,
   "isGpuEnabled": true,
   "isInternetEnabled": true,
   "language": "python",
   "sourceType": "notebook"
  },
  "kernelspec": {
   "display_name": "learn",
   "language": "python",
   "name": "python3"
  },
  "language_info": {
   "codemirror_mode": {
    "name": "ipython",
    "version": 3
   },
   "file_extension": ".py",
   "mimetype": "text/x-python",
   "name": "python",
   "nbconvert_exporter": "python",
   "pygments_lexer": "ipython3",
   "version": "3.11.13"
  }
 },
 "nbformat": 4,
 "nbformat_minor": 4
}
